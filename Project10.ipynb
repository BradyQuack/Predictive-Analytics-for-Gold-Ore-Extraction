{
 "cells": [
  {
   "cell_type": "markdown",
   "metadata": {},
   "source": [
    "# Predictive Analytics for Gold Ore Extraction\n",
    "## Overview:\n",
    "This project focuses on developing a machine learning model to predict the amount of gold recovered from ore in heavy industry. The prediction is based on data gathered during both the extraction and purification stages. The objective is to optimize production by identifying and eliminating unprofitable process parameters.\n",
    "## Project Setup:\n",
    "### Data Preprocessing:\n",
    "(1) Initial Data Inspection\n",
    "\n",
    "(2) Recovery Calculation Check\n",
    "\n",
    "(3) Feature Analysis\n",
    "\n",
    "(4) Preprocessing Steps\n",
    "### Exploratory Data Analysis (EDA):\n",
    "(1) Metal Concentrations\n",
    "\n",
    "(2) Particle Size Distribution\n",
    "\n",
    "(3) Substance Totals\n",
    "### Model Building and Evaluation:\n",
    "(1) sMAPE Function\n",
    "\n",
    "(2) Model Training\n",
    "\n",
    "(3) Test Set Application\n",
    "### Findings:\n",
    "This analysis of the gold ore processing data has provided valuable insights at every step of the production chain. The comprehensive dataset, which was rigorously cleaned and augmented, enabled us to thoroughly assess process efficiency through detailed visualizations of gold, silver, and lead concentration changes across each purification stage. Consistency in feed size distributions between training and test sets further reinforces the reliability of our predictive models. Notably, the Random Forest model outperformed other approaches, delivering an sMAPE of approximately 9.035%, thereby offering a robust, interpretable, and cost-effective solution for forecasting recovery rates. These findings equip decision makers with actionable intelligence to optimize operations, enhance recovery efficiencies, and ultimately boost production profitability."
   ]
  },
  {
   "cell_type": "markdown",
   "metadata": {},
   "source": [
    "## Load Data"
   ]
  },
  {
   "cell_type": "code",
   "execution_count": 1,
   "metadata": {
    "scrolled": false
   },
   "outputs": [
    {
     "name": "stdout",
     "output_type": "stream",
     "text": [
      "<class 'pandas.core.frame.DataFrame'>\n",
      "RangeIndex: 16860 entries, 0 to 16859\n",
      "Data columns (total 87 columns):\n",
      " #   Column                                              Non-Null Count  Dtype         \n",
      "---  ------                                              --------------  -----         \n",
      " 0   date                                                16860 non-null  datetime64[ns]\n",
      " 1   final.output.concentrate_ag                         16788 non-null  float64       \n",
      " 2   final.output.concentrate_pb                         16788 non-null  float64       \n",
      " 3   final.output.concentrate_sol                        16490 non-null  float64       \n",
      " 4   final.output.concentrate_au                         16789 non-null  float64       \n",
      " 5   final.output.recovery                               15339 non-null  float64       \n",
      " 6   final.output.tail_ag                                16794 non-null  float64       \n",
      " 7   final.output.tail_pb                                16677 non-null  float64       \n",
      " 8   final.output.tail_sol                               16715 non-null  float64       \n",
      " 9   final.output.tail_au                                16794 non-null  float64       \n",
      " 10  primary_cleaner.input.sulfate                       15553 non-null  float64       \n",
      " 11  primary_cleaner.input.depressant                    15598 non-null  float64       \n",
      " 12  primary_cleaner.input.feed_size                     16860 non-null  float64       \n",
      " 13  primary_cleaner.input.xanthate                      15875 non-null  float64       \n",
      " 14  primary_cleaner.output.concentrate_ag               16778 non-null  float64       \n",
      " 15  primary_cleaner.output.concentrate_pb               16502 non-null  float64       \n",
      " 16  primary_cleaner.output.concentrate_sol              16224 non-null  float64       \n",
      " 17  primary_cleaner.output.concentrate_au               16778 non-null  float64       \n",
      " 18  primary_cleaner.output.tail_ag                      16777 non-null  float64       \n",
      " 19  primary_cleaner.output.tail_pb                      16761 non-null  float64       \n",
      " 20  primary_cleaner.output.tail_sol                     16579 non-null  float64       \n",
      " 21  primary_cleaner.output.tail_au                      16777 non-null  float64       \n",
      " 22  primary_cleaner.state.floatbank8_a_air              16820 non-null  float64       \n",
      " 23  primary_cleaner.state.floatbank8_a_level            16827 non-null  float64       \n",
      " 24  primary_cleaner.state.floatbank8_b_air              16820 non-null  float64       \n",
      " 25  primary_cleaner.state.floatbank8_b_level            16833 non-null  float64       \n",
      " 26  primary_cleaner.state.floatbank8_c_air              16822 non-null  float64       \n",
      " 27  primary_cleaner.state.floatbank8_c_level            16833 non-null  float64       \n",
      " 28  primary_cleaner.state.floatbank8_d_air              16821 non-null  float64       \n",
      " 29  primary_cleaner.state.floatbank8_d_level            16833 non-null  float64       \n",
      " 30  rougher.calculation.sulfate_to_au_concentrate       16833 non-null  float64       \n",
      " 31  rougher.calculation.floatbank10_sulfate_to_au_feed  16833 non-null  float64       \n",
      " 32  rougher.calculation.floatbank11_sulfate_to_au_feed  16833 non-null  float64       \n",
      " 33  rougher.calculation.au_pb_ratio                     15618 non-null  float64       \n",
      " 34  rougher.input.feed_ag                               16778 non-null  float64       \n",
      " 35  rougher.input.feed_pb                               16632 non-null  float64       \n",
      " 36  rougher.input.feed_rate                             16347 non-null  float64       \n",
      " 37  rougher.input.feed_size                             16443 non-null  float64       \n",
      " 38  rougher.input.feed_sol                              16568 non-null  float64       \n",
      " 39  rougher.input.feed_au                               16777 non-null  float64       \n",
      " 40  rougher.input.floatbank10_sulfate                   15816 non-null  float64       \n",
      " 41  rougher.input.floatbank10_xanthate                  16514 non-null  float64       \n",
      " 42  rougher.input.floatbank11_sulfate                   16237 non-null  float64       \n",
      " 43  rougher.input.floatbank11_xanthate                  14956 non-null  float64       \n",
      " 44  rougher.output.concentrate_ag                       16778 non-null  float64       \n",
      " 45  rougher.output.concentrate_pb                       16778 non-null  float64       \n",
      " 46  rougher.output.concentrate_sol                      16698 non-null  float64       \n",
      " 47  rougher.output.concentrate_au                       16778 non-null  float64       \n",
      " 48  rougher.output.recovery                             14287 non-null  float64       \n",
      " 49  rougher.output.tail_ag                              14610 non-null  float64       \n",
      " 50  rougher.output.tail_pb                              16778 non-null  float64       \n",
      " 51  rougher.output.tail_sol                             14611 non-null  float64       \n",
      " 52  rougher.output.tail_au                              14611 non-null  float64       \n",
      " 53  rougher.state.floatbank10_a_air                     16807 non-null  float64       \n",
      " 54  rougher.state.floatbank10_a_level                   16807 non-null  float64       \n",
      " 55  rougher.state.floatbank10_b_air                     16807 non-null  float64       \n",
      " 56  rougher.state.floatbank10_b_level                   16807 non-null  float64       \n",
      " 57  rougher.state.floatbank10_c_air                     16807 non-null  float64       \n",
      " 58  rougher.state.floatbank10_c_level                   16814 non-null  float64       \n",
      " 59  rougher.state.floatbank10_d_air                     16802 non-null  float64       \n",
      " 60  rougher.state.floatbank10_d_level                   16809 non-null  float64       \n",
      " 61  rougher.state.floatbank10_e_air                     16257 non-null  float64       \n",
      " 62  rougher.state.floatbank10_e_level                   16809 non-null  float64       \n",
      " 63  rougher.state.floatbank10_f_air                     16802 non-null  float64       \n",
      " 64  rougher.state.floatbank10_f_level                   16802 non-null  float64       \n",
      " 65  secondary_cleaner.output.tail_ag                    16776 non-null  float64       \n",
      " 66  secondary_cleaner.output.tail_pb                    16764 non-null  float64       \n",
      " 67  secondary_cleaner.output.tail_sol                   14874 non-null  float64       \n",
      " 68  secondary_cleaner.output.tail_au                    16778 non-null  float64       \n",
      " 69  secondary_cleaner.state.floatbank2_a_air            16497 non-null  float64       \n",
      " 70  secondary_cleaner.state.floatbank2_a_level          16751 non-null  float64       \n",
      " 71  secondary_cleaner.state.floatbank2_b_air            16705 non-null  float64       \n",
      " 72  secondary_cleaner.state.floatbank2_b_level          16748 non-null  float64       \n",
      " 73  secondary_cleaner.state.floatbank3_a_air            16763 non-null  float64       \n",
      " 74  secondary_cleaner.state.floatbank3_a_level          16747 non-null  float64       \n",
      " 75  secondary_cleaner.state.floatbank3_b_air            16752 non-null  float64       \n",
      " 76  secondary_cleaner.state.floatbank3_b_level          16750 non-null  float64       \n",
      " 77  secondary_cleaner.state.floatbank4_a_air            16731 non-null  float64       \n",
      " 78  secondary_cleaner.state.floatbank4_a_level          16747 non-null  float64       \n",
      " 79  secondary_cleaner.state.floatbank4_b_air            16768 non-null  float64       \n",
      " 80  secondary_cleaner.state.floatbank4_b_level          16767 non-null  float64       \n",
      " 81  secondary_cleaner.state.floatbank5_a_air            16775 non-null  float64       \n",
      " 82  secondary_cleaner.state.floatbank5_a_level          16775 non-null  float64       \n",
      " 83  secondary_cleaner.state.floatbank5_b_air            16775 non-null  float64       \n",
      " 84  secondary_cleaner.state.floatbank5_b_level          16776 non-null  float64       \n",
      " 85  secondary_cleaner.state.floatbank6_a_air            16757 non-null  float64       \n",
      " 86  secondary_cleaner.state.floatbank6_a_level          16775 non-null  float64       \n",
      "dtypes: datetime64[ns](1), float64(86)\n",
      "memory usage: 11.2 MB\n",
      "None\n",
      "<class 'pandas.core.frame.DataFrame'>\n",
      "RangeIndex: 5856 entries, 0 to 5855\n",
      "Data columns (total 53 columns):\n",
      " #   Column                                      Non-Null Count  Dtype         \n",
      "---  ------                                      --------------  -----         \n",
      " 0   date                                        5856 non-null   datetime64[ns]\n",
      " 1   primary_cleaner.input.sulfate               5554 non-null   float64       \n",
      " 2   primary_cleaner.input.depressant            5572 non-null   float64       \n",
      " 3   primary_cleaner.input.feed_size             5856 non-null   float64       \n",
      " 4   primary_cleaner.input.xanthate              5690 non-null   float64       \n",
      " 5   primary_cleaner.state.floatbank8_a_air      5840 non-null   float64       \n",
      " 6   primary_cleaner.state.floatbank8_a_level    5840 non-null   float64       \n",
      " 7   primary_cleaner.state.floatbank8_b_air      5840 non-null   float64       \n",
      " 8   primary_cleaner.state.floatbank8_b_level    5840 non-null   float64       \n",
      " 9   primary_cleaner.state.floatbank8_c_air      5840 non-null   float64       \n",
      " 10  primary_cleaner.state.floatbank8_c_level    5840 non-null   float64       \n",
      " 11  primary_cleaner.state.floatbank8_d_air      5840 non-null   float64       \n",
      " 12  primary_cleaner.state.floatbank8_d_level    5840 non-null   float64       \n",
      " 13  rougher.input.feed_ag                       5840 non-null   float64       \n",
      " 14  rougher.input.feed_pb                       5840 non-null   float64       \n",
      " 15  rougher.input.feed_rate                     5816 non-null   float64       \n",
      " 16  rougher.input.feed_size                     5834 non-null   float64       \n",
      " 17  rougher.input.feed_sol                      5789 non-null   float64       \n",
      " 18  rougher.input.feed_au                       5840 non-null   float64       \n",
      " 19  rougher.input.floatbank10_sulfate           5599 non-null   float64       \n",
      " 20  rougher.input.floatbank10_xanthate          5733 non-null   float64       \n",
      " 21  rougher.input.floatbank11_sulfate           5801 non-null   float64       \n",
      " 22  rougher.input.floatbank11_xanthate          5503 non-null   float64       \n",
      " 23  rougher.state.floatbank10_a_air             5839 non-null   float64       \n",
      " 24  rougher.state.floatbank10_a_level           5840 non-null   float64       \n",
      " 25  rougher.state.floatbank10_b_air             5839 non-null   float64       \n",
      " 26  rougher.state.floatbank10_b_level           5840 non-null   float64       \n",
      " 27  rougher.state.floatbank10_c_air             5839 non-null   float64       \n",
      " 28  rougher.state.floatbank10_c_level           5840 non-null   float64       \n",
      " 29  rougher.state.floatbank10_d_air             5839 non-null   float64       \n",
      " 30  rougher.state.floatbank10_d_level           5840 non-null   float64       \n",
      " 31  rougher.state.floatbank10_e_air             5839 non-null   float64       \n",
      " 32  rougher.state.floatbank10_e_level           5840 non-null   float64       \n",
      " 33  rougher.state.floatbank10_f_air             5839 non-null   float64       \n",
      " 34  rougher.state.floatbank10_f_level           5840 non-null   float64       \n",
      " 35  secondary_cleaner.state.floatbank2_a_air    5836 non-null   float64       \n",
      " 36  secondary_cleaner.state.floatbank2_a_level  5840 non-null   float64       \n",
      " 37  secondary_cleaner.state.floatbank2_b_air    5833 non-null   float64       \n",
      " 38  secondary_cleaner.state.floatbank2_b_level  5840 non-null   float64       \n",
      " 39  secondary_cleaner.state.floatbank3_a_air    5822 non-null   float64       \n",
      " 40  secondary_cleaner.state.floatbank3_a_level  5840 non-null   float64       \n",
      " 41  secondary_cleaner.state.floatbank3_b_air    5840 non-null   float64       \n",
      " 42  secondary_cleaner.state.floatbank3_b_level  5840 non-null   float64       \n",
      " 43  secondary_cleaner.state.floatbank4_a_air    5840 non-null   float64       \n",
      " 44  secondary_cleaner.state.floatbank4_a_level  5840 non-null   float64       \n",
      " 45  secondary_cleaner.state.floatbank4_b_air    5840 non-null   float64       \n",
      " 46  secondary_cleaner.state.floatbank4_b_level  5840 non-null   float64       \n",
      " 47  secondary_cleaner.state.floatbank5_a_air    5840 non-null   float64       \n",
      " 48  secondary_cleaner.state.floatbank5_a_level  5840 non-null   float64       \n",
      " 49  secondary_cleaner.state.floatbank5_b_air    5840 non-null   float64       \n",
      " 50  secondary_cleaner.state.floatbank5_b_level  5840 non-null   float64       \n",
      " 51  secondary_cleaner.state.floatbank6_a_air    5840 non-null   float64       \n",
      " 52  secondary_cleaner.state.floatbank6_a_level  5840 non-null   float64       \n",
      "dtypes: datetime64[ns](1), float64(52)\n",
      "memory usage: 2.4 MB\n",
      "None\n",
      "<class 'pandas.core.frame.DataFrame'>\n",
      "RangeIndex: 22716 entries, 0 to 22715\n",
      "Data columns (total 87 columns):\n",
      " #   Column                                              Non-Null Count  Dtype         \n",
      "---  ------                                              --------------  -----         \n",
      " 0   date                                                22716 non-null  datetime64[ns]\n",
      " 1   final.output.concentrate_ag                         22627 non-null  float64       \n",
      " 2   final.output.concentrate_pb                         22629 non-null  float64       \n",
      " 3   final.output.concentrate_sol                        22331 non-null  float64       \n",
      " 4   final.output.concentrate_au                         22630 non-null  float64       \n",
      " 5   final.output.recovery                               20753 non-null  float64       \n",
      " 6   final.output.tail_ag                                22633 non-null  float64       \n",
      " 7   final.output.tail_pb                                22516 non-null  float64       \n",
      " 8   final.output.tail_sol                               22445 non-null  float64       \n",
      " 9   final.output.tail_au                                22635 non-null  float64       \n",
      " 10  primary_cleaner.input.sulfate                       21107 non-null  float64       \n",
      " 11  primary_cleaner.input.depressant                    21170 non-null  float64       \n",
      " 12  primary_cleaner.input.feed_size                     22716 non-null  float64       \n",
      " 13  primary_cleaner.input.xanthate                      21565 non-null  float64       \n",
      " 14  primary_cleaner.output.concentrate_ag               22618 non-null  float64       \n",
      " 15  primary_cleaner.output.concentrate_pb               22268 non-null  float64       \n",
      " 16  primary_cleaner.output.concentrate_sol              21918 non-null  float64       \n",
      " 17  primary_cleaner.output.concentrate_au               22618 non-null  float64       \n",
      " 18  primary_cleaner.output.tail_ag                      22614 non-null  float64       \n",
      " 19  primary_cleaner.output.tail_pb                      22594 non-null  float64       \n",
      " 20  primary_cleaner.output.tail_sol                     22365 non-null  float64       \n",
      " 21  primary_cleaner.output.tail_au                      22617 non-null  float64       \n",
      " 22  primary_cleaner.state.floatbank8_a_air              22660 non-null  float64       \n",
      " 23  primary_cleaner.state.floatbank8_a_level            22667 non-null  float64       \n",
      " 24  primary_cleaner.state.floatbank8_b_air              22660 non-null  float64       \n",
      " 25  primary_cleaner.state.floatbank8_b_level            22673 non-null  float64       \n",
      " 26  primary_cleaner.state.floatbank8_c_air              22662 non-null  float64       \n",
      " 27  primary_cleaner.state.floatbank8_c_level            22673 non-null  float64       \n",
      " 28  primary_cleaner.state.floatbank8_d_air              22661 non-null  float64       \n",
      " 29  primary_cleaner.state.floatbank8_d_level            22673 non-null  float64       \n",
      " 30  rougher.calculation.sulfate_to_au_concentrate       22672 non-null  float64       \n",
      " 31  rougher.calculation.floatbank10_sulfate_to_au_feed  22672 non-null  float64       \n",
      " 32  rougher.calculation.floatbank11_sulfate_to_au_feed  22672 non-null  float64       \n",
      " 33  rougher.calculation.au_pb_ratio                     21089 non-null  float64       \n",
      " 34  rougher.input.feed_ag                               22618 non-null  float64       \n",
      " 35  rougher.input.feed_pb                               22472 non-null  float64       \n",
      " 36  rougher.input.feed_rate                             22163 non-null  float64       \n",
      " 37  rougher.input.feed_size                             22277 non-null  float64       \n",
      " 38  rougher.input.feed_sol                              22357 non-null  float64       \n",
      " 39  rougher.input.feed_au                               22617 non-null  float64       \n",
      " 40  rougher.input.floatbank10_sulfate                   21415 non-null  float64       \n",
      " 41  rougher.input.floatbank10_xanthate                  22247 non-null  float64       \n",
      " 42  rougher.input.floatbank11_sulfate                   22038 non-null  float64       \n",
      " 43  rougher.input.floatbank11_xanthate                  20459 non-null  float64       \n",
      " 44  rougher.output.concentrate_ag                       22618 non-null  float64       \n",
      " 45  rougher.output.concentrate_pb                       22618 non-null  float64       \n",
      " 46  rougher.output.concentrate_sol                      22526 non-null  float64       \n",
      " 47  rougher.output.concentrate_au                       22618 non-null  float64       \n",
      " 48  rougher.output.recovery                             19597 non-null  float64       \n",
      " 49  rougher.output.tail_ag                              19979 non-null  float64       \n",
      " 50  rougher.output.tail_pb                              22618 non-null  float64       \n",
      " 51  rougher.output.tail_sol                             19980 non-null  float64       \n",
      " 52  rougher.output.tail_au                              19980 non-null  float64       \n",
      " 53  rougher.state.floatbank10_a_air                     22646 non-null  float64       \n",
      " 54  rougher.state.floatbank10_a_level                   22647 non-null  float64       \n",
      " 55  rougher.state.floatbank10_b_air                     22646 non-null  float64       \n",
      " 56  rougher.state.floatbank10_b_level                   22647 non-null  float64       \n",
      " 57  rougher.state.floatbank10_c_air                     22646 non-null  float64       \n",
      " 58  rougher.state.floatbank10_c_level                   22654 non-null  float64       \n",
      " 59  rougher.state.floatbank10_d_air                     22641 non-null  float64       \n",
      " 60  rougher.state.floatbank10_d_level                   22649 non-null  float64       \n",
      " 61  rougher.state.floatbank10_e_air                     22096 non-null  float64       \n",
      " 62  rougher.state.floatbank10_e_level                   22649 non-null  float64       \n",
      " 63  rougher.state.floatbank10_f_air                     22641 non-null  float64       \n",
      " 64  rougher.state.floatbank10_f_level                   22642 non-null  float64       \n",
      " 65  secondary_cleaner.output.tail_ag                    22616 non-null  float64       \n",
      " 66  secondary_cleaner.output.tail_pb                    22600 non-null  float64       \n",
      " 67  secondary_cleaner.output.tail_sol                   20501 non-null  float64       \n",
      " 68  secondary_cleaner.output.tail_au                    22618 non-null  float64       \n",
      " 69  secondary_cleaner.state.floatbank2_a_air            22333 non-null  float64       \n",
      " 70  secondary_cleaner.state.floatbank2_a_level          22591 non-null  float64       \n",
      " 71  secondary_cleaner.state.floatbank2_b_air            22538 non-null  float64       \n",
      " 72  secondary_cleaner.state.floatbank2_b_level          22588 non-null  float64       \n",
      " 73  secondary_cleaner.state.floatbank3_a_air            22585 non-null  float64       \n",
      " 74  secondary_cleaner.state.floatbank3_a_level          22587 non-null  float64       \n",
      " 75  secondary_cleaner.state.floatbank3_b_air            22592 non-null  float64       \n",
      " 76  secondary_cleaner.state.floatbank3_b_level          22590 non-null  float64       \n",
      " 77  secondary_cleaner.state.floatbank4_a_air            22571 non-null  float64       \n",
      " 78  secondary_cleaner.state.floatbank4_a_level          22587 non-null  float64       \n",
      " 79  secondary_cleaner.state.floatbank4_b_air            22608 non-null  float64       \n",
      " 80  secondary_cleaner.state.floatbank4_b_level          22607 non-null  float64       \n",
      " 81  secondary_cleaner.state.floatbank5_a_air            22615 non-null  float64       \n",
      " 82  secondary_cleaner.state.floatbank5_a_level          22615 non-null  float64       \n",
      " 83  secondary_cleaner.state.floatbank5_b_air            22615 non-null  float64       \n",
      " 84  secondary_cleaner.state.floatbank5_b_level          22616 non-null  float64       \n",
      " 85  secondary_cleaner.state.floatbank6_a_air            22597 non-null  float64       \n",
      " 86  secondary_cleaner.state.floatbank6_a_level          22615 non-null  float64       \n",
      "dtypes: datetime64[ns](1), float64(86)\n",
      "memory usage: 15.1 MB\n",
      "None\n"
     ]
    }
   ],
   "source": [
    "import pandas as pd\n",
    "import matplotlib.pyplot as plt\n",
    "import numpy as np\n",
    "from sklearn.model_selection import KFold, cross_val_score\n",
    "from sklearn.linear_model import LinearRegression\n",
    "from sklearn.tree import DecisionTreeRegressor\n",
    "from sklearn.ensemble import RandomForestRegressor\n",
    "from sklearn.preprocessing import StandardScaler\n",
    "from sklearn.dummy import DummyRegressor\n",
    "from sklearn.metrics import make_scorer\n",
    "\n",
    "train = pd.read_csv('/datasets/gold_recovery_train.csv', parse_dates=['date'])\n",
    "test = pd.read_csv('/datasets/gold_recovery_test.csv', parse_dates=['date'])\n",
    "full = pd.read_csv('/datasets/gold_recovery_full.csv', parse_dates=['date'])\n",
    "\n",
    "print(train.info())\n",
    "print(test.info())\n",
    "print(full.info())"
   ]
  },
  {
   "cell_type": "markdown",
   "metadata": {},
   "source": [
    "### Summary:\n",
    "The datasets consist of time-indexed measurements capturing various parameters related to the gold ore processing stages. The training dataset contains 16,860 entries and 87 columns, while the test dataset has 5,856 entries with 53 columns, and the full dataset combines both to 22,716 entries with 87 columns. Each file features a date column formatted as a datetime. The columns encompass detailed measurements from different stages of the production process, including the final concentrate and tail outputs, primary cleaning, rougher processing, and secondary cleaning operations. Most of the data is numerical (float64), reflecting various chemical concentrations, operational parameters, and calculated ratios, though some columns have missing values due to delayed measurements or calculations. "
   ]
  },
  {
   "cell_type": "markdown",
   "metadata": {},
   "source": [
    "## Recovery"
   ]
  },
  {
   "cell_type": "code",
   "execution_count": 2,
   "metadata": {},
   "outputs": [
    {
     "name": "stdout",
     "output_type": "stream",
     "text": [
      "Mean Absolute Value: 9.303415616264301e-15\n"
     ]
    }
   ],
   "source": [
    "c = train['rougher.output.concentrate_au']\n",
    "f = train['rougher.input.feed_au']\n",
    "t = train['rougher.output.tail_au']\n",
    "\n",
    "recovery = (c * (f - t)) / (f * (c - t)) * 100\n",
    "\n",
    "mae = abs(recovery - train['rougher.output.recovery']).mean()\n",
    "\n",
    "print('Mean Absolute Value:', mae)"
   ]
  },
  {
   "cell_type": "markdown",
   "metadata": {},
   "source": [
    "### Missing Features"
   ]
  },
  {
   "cell_type": "code",
   "execution_count": 3,
   "metadata": {},
   "outputs": [
    {
     "data": {
      "text/plain": [
       "Index(['final.output.concentrate_ag', 'final.output.concentrate_au',\n",
       "       'final.output.concentrate_pb', 'final.output.concentrate_sol',\n",
       "       'final.output.recovery', 'final.output.tail_ag', 'final.output.tail_au',\n",
       "       'final.output.tail_pb', 'final.output.tail_sol',\n",
       "       'primary_cleaner.output.concentrate_ag',\n",
       "       'primary_cleaner.output.concentrate_au',\n",
       "       'primary_cleaner.output.concentrate_pb',\n",
       "       'primary_cleaner.output.concentrate_sol',\n",
       "       'primary_cleaner.output.tail_ag', 'primary_cleaner.output.tail_au',\n",
       "       'primary_cleaner.output.tail_pb', 'primary_cleaner.output.tail_sol',\n",
       "       'rougher.calculation.au_pb_ratio',\n",
       "       'rougher.calculation.floatbank10_sulfate_to_au_feed',\n",
       "       'rougher.calculation.floatbank11_sulfate_to_au_feed',\n",
       "       'rougher.calculation.sulfate_to_au_concentrate',\n",
       "       'rougher.output.concentrate_ag', 'rougher.output.concentrate_au',\n",
       "       'rougher.output.concentrate_pb', 'rougher.output.concentrate_sol',\n",
       "       'rougher.output.recovery', 'rougher.output.tail_ag',\n",
       "       'rougher.output.tail_au', 'rougher.output.tail_pb',\n",
       "       'rougher.output.tail_sol', 'secondary_cleaner.output.tail_ag',\n",
       "       'secondary_cleaner.output.tail_au', 'secondary_cleaner.output.tail_pb',\n",
       "       'secondary_cleaner.output.tail_sol'],\n",
       "      dtype='object')"
      ]
     },
     "execution_count": 3,
     "metadata": {},
     "output_type": "execute_result"
    }
   ],
   "source": [
    "missing_features = full.columns.difference(test.columns)\n",
    "missing_features"
   ]
  },
  {
   "cell_type": "code",
   "execution_count": 4,
   "metadata": {},
   "outputs": [
    {
     "name": "stdout",
     "output_type": "stream",
     "text": [
      "final.output.concentrate_ag: float64\n",
      "final.output.concentrate_au: float64\n",
      "final.output.concentrate_pb: float64\n",
      "final.output.concentrate_sol: float64\n",
      "final.output.recovery: float64\n",
      "final.output.tail_ag: float64\n",
      "final.output.tail_au: float64\n",
      "final.output.tail_pb: float64\n",
      "final.output.tail_sol: float64\n",
      "primary_cleaner.output.concentrate_ag: float64\n",
      "primary_cleaner.output.concentrate_au: float64\n",
      "primary_cleaner.output.concentrate_pb: float64\n",
      "primary_cleaner.output.concentrate_sol: float64\n",
      "primary_cleaner.output.tail_ag: float64\n",
      "primary_cleaner.output.tail_au: float64\n",
      "primary_cleaner.output.tail_pb: float64\n",
      "primary_cleaner.output.tail_sol: float64\n",
      "rougher.calculation.au_pb_ratio: float64\n",
      "rougher.calculation.floatbank10_sulfate_to_au_feed: float64\n",
      "rougher.calculation.floatbank11_sulfate_to_au_feed: float64\n",
      "rougher.calculation.sulfate_to_au_concentrate: float64\n",
      "rougher.output.concentrate_ag: float64\n",
      "rougher.output.concentrate_au: float64\n",
      "rougher.output.concentrate_pb: float64\n",
      "rougher.output.concentrate_sol: float64\n",
      "rougher.output.recovery: float64\n",
      "rougher.output.tail_ag: float64\n",
      "rougher.output.tail_au: float64\n",
      "rougher.output.tail_pb: float64\n",
      "rougher.output.tail_sol: float64\n",
      "secondary_cleaner.output.tail_ag: float64\n",
      "secondary_cleaner.output.tail_au: float64\n",
      "secondary_cleaner.output.tail_pb: float64\n",
      "secondary_cleaner.output.tail_sol: float64\n"
     ]
    }
   ],
   "source": [
    "for feature in missing_features:\n",
    "    print(f\"{feature}: {train[feature].dtype}\")"
   ]
  },
  {
   "cell_type": "markdown",
   "metadata": {},
   "source": [
    "### Merge"
   ]
  },
  {
   "cell_type": "code",
   "execution_count": 5,
   "metadata": {},
   "outputs": [
    {
     "name": "stdout",
     "output_type": "stream",
     "text": [
      "<class 'pandas.core.frame.DataFrame'>\n",
      "Int64Index: 5856 entries, 0 to 5855\n",
      "Data columns (total 55 columns):\n",
      " #   Column                                      Non-Null Count  Dtype         \n",
      "---  ------                                      --------------  -----         \n",
      " 0   date                                        5856 non-null   datetime64[ns]\n",
      " 1   primary_cleaner.input.sulfate               5554 non-null   float64       \n",
      " 2   primary_cleaner.input.depressant            5572 non-null   float64       \n",
      " 3   primary_cleaner.input.feed_size             5856 non-null   float64       \n",
      " 4   primary_cleaner.input.xanthate              5690 non-null   float64       \n",
      " 5   primary_cleaner.state.floatbank8_a_air      5840 non-null   float64       \n",
      " 6   primary_cleaner.state.floatbank8_a_level    5840 non-null   float64       \n",
      " 7   primary_cleaner.state.floatbank8_b_air      5840 non-null   float64       \n",
      " 8   primary_cleaner.state.floatbank8_b_level    5840 non-null   float64       \n",
      " 9   primary_cleaner.state.floatbank8_c_air      5840 non-null   float64       \n",
      " 10  primary_cleaner.state.floatbank8_c_level    5840 non-null   float64       \n",
      " 11  primary_cleaner.state.floatbank8_d_air      5840 non-null   float64       \n",
      " 12  primary_cleaner.state.floatbank8_d_level    5840 non-null   float64       \n",
      " 13  rougher.input.feed_ag                       5840 non-null   float64       \n",
      " 14  rougher.input.feed_pb                       5840 non-null   float64       \n",
      " 15  rougher.input.feed_rate                     5816 non-null   float64       \n",
      " 16  rougher.input.feed_size                     5834 non-null   float64       \n",
      " 17  rougher.input.feed_sol                      5789 non-null   float64       \n",
      " 18  rougher.input.feed_au                       5840 non-null   float64       \n",
      " 19  rougher.input.floatbank10_sulfate           5599 non-null   float64       \n",
      " 20  rougher.input.floatbank10_xanthate          5733 non-null   float64       \n",
      " 21  rougher.input.floatbank11_sulfate           5801 non-null   float64       \n",
      " 22  rougher.input.floatbank11_xanthate          5503 non-null   float64       \n",
      " 23  rougher.state.floatbank10_a_air             5839 non-null   float64       \n",
      " 24  rougher.state.floatbank10_a_level           5840 non-null   float64       \n",
      " 25  rougher.state.floatbank10_b_air             5839 non-null   float64       \n",
      " 26  rougher.state.floatbank10_b_level           5840 non-null   float64       \n",
      " 27  rougher.state.floatbank10_c_air             5839 non-null   float64       \n",
      " 28  rougher.state.floatbank10_c_level           5840 non-null   float64       \n",
      " 29  rougher.state.floatbank10_d_air             5839 non-null   float64       \n",
      " 30  rougher.state.floatbank10_d_level           5840 non-null   float64       \n",
      " 31  rougher.state.floatbank10_e_air             5839 non-null   float64       \n",
      " 32  rougher.state.floatbank10_e_level           5840 non-null   float64       \n",
      " 33  rougher.state.floatbank10_f_air             5839 non-null   float64       \n",
      " 34  rougher.state.floatbank10_f_level           5840 non-null   float64       \n",
      " 35  secondary_cleaner.state.floatbank2_a_air    5836 non-null   float64       \n",
      " 36  secondary_cleaner.state.floatbank2_a_level  5840 non-null   float64       \n",
      " 37  secondary_cleaner.state.floatbank2_b_air    5833 non-null   float64       \n",
      " 38  secondary_cleaner.state.floatbank2_b_level  5840 non-null   float64       \n",
      " 39  secondary_cleaner.state.floatbank3_a_air    5822 non-null   float64       \n",
      " 40  secondary_cleaner.state.floatbank3_a_level  5840 non-null   float64       \n",
      " 41  secondary_cleaner.state.floatbank3_b_air    5840 non-null   float64       \n",
      " 42  secondary_cleaner.state.floatbank3_b_level  5840 non-null   float64       \n",
      " 43  secondary_cleaner.state.floatbank4_a_air    5840 non-null   float64       \n",
      " 44  secondary_cleaner.state.floatbank4_a_level  5840 non-null   float64       \n",
      " 45  secondary_cleaner.state.floatbank4_b_air    5840 non-null   float64       \n",
      " 46  secondary_cleaner.state.floatbank4_b_level  5840 non-null   float64       \n",
      " 47  secondary_cleaner.state.floatbank5_a_air    5840 non-null   float64       \n",
      " 48  secondary_cleaner.state.floatbank5_a_level  5840 non-null   float64       \n",
      " 49  secondary_cleaner.state.floatbank5_b_air    5840 non-null   float64       \n",
      " 50  secondary_cleaner.state.floatbank5_b_level  5840 non-null   float64       \n",
      " 51  secondary_cleaner.state.floatbank6_a_air    5840 non-null   float64       \n",
      " 52  secondary_cleaner.state.floatbank6_a_level  5840 non-null   float64       \n",
      " 53  rougher.output.recovery                     5310 non-null   float64       \n",
      " 54  final.output.recovery                       5414 non-null   float64       \n",
      "dtypes: datetime64[ns](1), float64(54)\n",
      "memory usage: 2.5 MB\n"
     ]
    }
   ],
   "source": [
    "# test_missing = full[['date'] + list(missing_features)]\n",
    "test_missing = full[['date', 'rougher.output.recovery', 'final.output.recovery']]\n",
    "test = test.merge(test_missing, on='date', how='left')\n",
    "test.info()"
   ]
  },
  {
   "cell_type": "code",
   "execution_count": 6,
   "metadata": {
    "scrolled": true
   },
   "outputs": [
    {
     "name": "stdout",
     "output_type": "stream",
     "text": [
      "(16860, 87)\n",
      "(5856, 55)\n",
      "(22716, 87)\n"
     ]
    }
   ],
   "source": [
    "print(train.shape)\n",
    "print(test.shape)\n",
    "print(full.shape)"
   ]
  },
  {
   "cell_type": "markdown",
   "metadata": {},
   "source": [
    "### Summary:\n",
    "The code begins by loading the training, test, and full datasets, ensuring the date column is correctly parsed as datetime. It then identifies which features are present in the full dataset but missing from the test dataset by computing the column set difference. Next, a subset containing these missing features along with the date column is extracted from the full dataset. This subset is merged into the test DataFrame using a left join on the date column, ensuring that all missing features are added to the test set. Finally, the code prints out the updated structure and shapes of the datasets to confirm that the test DataFrame now has the complete set of 87 columns."
   ]
  },
  {
   "cell_type": "markdown",
   "metadata": {},
   "source": [
    "### Duplicates and Missing Values"
   ]
  },
  {
   "cell_type": "code",
   "execution_count": 7,
   "metadata": {},
   "outputs": [
    {
     "name": "stdout",
     "output_type": "stream",
     "text": [
      "0\n",
      "0\n",
      "0\n"
     ]
    }
   ],
   "source": [
    "print(train.duplicated().sum())\n",
    "print(test.duplicated().sum())\n",
    "print(full.duplicated().sum())"
   ]
  },
  {
   "cell_type": "code",
   "execution_count": 8,
   "metadata": {},
   "outputs": [
    {
     "name": "stdout",
     "output_type": "stream",
     "text": [
      "date                                            0\n",
      "final.output.concentrate_ag                    72\n",
      "final.output.concentrate_pb                    72\n",
      "final.output.concentrate_sol                  370\n",
      "final.output.concentrate_au                    71\n",
      "                                             ... \n",
      "secondary_cleaner.state.floatbank5_a_level     85\n",
      "secondary_cleaner.state.floatbank5_b_air       85\n",
      "secondary_cleaner.state.floatbank5_b_level     84\n",
      "secondary_cleaner.state.floatbank6_a_air      103\n",
      "secondary_cleaner.state.floatbank6_a_level     85\n",
      "Length: 87, dtype: int64\n",
      "date                                            0\n",
      "primary_cleaner.input.sulfate                 302\n",
      "primary_cleaner.input.depressant              284\n",
      "primary_cleaner.input.feed_size                 0\n",
      "primary_cleaner.input.xanthate                166\n",
      "primary_cleaner.state.floatbank8_a_air         16\n",
      "primary_cleaner.state.floatbank8_a_level       16\n",
      "primary_cleaner.state.floatbank8_b_air         16\n",
      "primary_cleaner.state.floatbank8_b_level       16\n",
      "primary_cleaner.state.floatbank8_c_air         16\n",
      "primary_cleaner.state.floatbank8_c_level       16\n",
      "primary_cleaner.state.floatbank8_d_air         16\n",
      "primary_cleaner.state.floatbank8_d_level       16\n",
      "rougher.input.feed_ag                          16\n",
      "rougher.input.feed_pb                          16\n",
      "rougher.input.feed_rate                        40\n",
      "rougher.input.feed_size                        22\n",
      "rougher.input.feed_sol                         67\n",
      "rougher.input.feed_au                          16\n",
      "rougher.input.floatbank10_sulfate             257\n",
      "rougher.input.floatbank10_xanthate            123\n",
      "rougher.input.floatbank11_sulfate              55\n",
      "rougher.input.floatbank11_xanthate            353\n",
      "rougher.state.floatbank10_a_air                17\n",
      "rougher.state.floatbank10_a_level              16\n",
      "rougher.state.floatbank10_b_air                17\n",
      "rougher.state.floatbank10_b_level              16\n",
      "rougher.state.floatbank10_c_air                17\n",
      "rougher.state.floatbank10_c_level              16\n",
      "rougher.state.floatbank10_d_air                17\n",
      "rougher.state.floatbank10_d_level              16\n",
      "rougher.state.floatbank10_e_air                17\n",
      "rougher.state.floatbank10_e_level              16\n",
      "rougher.state.floatbank10_f_air                17\n",
      "rougher.state.floatbank10_f_level              16\n",
      "secondary_cleaner.state.floatbank2_a_air       20\n",
      "secondary_cleaner.state.floatbank2_a_level     16\n",
      "secondary_cleaner.state.floatbank2_b_air       23\n",
      "secondary_cleaner.state.floatbank2_b_level     16\n",
      "secondary_cleaner.state.floatbank3_a_air       34\n",
      "secondary_cleaner.state.floatbank3_a_level     16\n",
      "secondary_cleaner.state.floatbank3_b_air       16\n",
      "secondary_cleaner.state.floatbank3_b_level     16\n",
      "secondary_cleaner.state.floatbank4_a_air       16\n",
      "secondary_cleaner.state.floatbank4_a_level     16\n",
      "secondary_cleaner.state.floatbank4_b_air       16\n",
      "secondary_cleaner.state.floatbank4_b_level     16\n",
      "secondary_cleaner.state.floatbank5_a_air       16\n",
      "secondary_cleaner.state.floatbank5_a_level     16\n",
      "secondary_cleaner.state.floatbank5_b_air       16\n",
      "secondary_cleaner.state.floatbank5_b_level     16\n",
      "secondary_cleaner.state.floatbank6_a_air       16\n",
      "secondary_cleaner.state.floatbank6_a_level     16\n",
      "rougher.output.recovery                       546\n",
      "final.output.recovery                         442\n",
      "dtype: int64\n",
      "date                                            0\n",
      "final.output.concentrate_ag                    89\n",
      "final.output.concentrate_pb                    87\n",
      "final.output.concentrate_sol                  385\n",
      "final.output.concentrate_au                    86\n",
      "                                             ... \n",
      "secondary_cleaner.state.floatbank5_a_level    101\n",
      "secondary_cleaner.state.floatbank5_b_air      101\n",
      "secondary_cleaner.state.floatbank5_b_level    100\n",
      "secondary_cleaner.state.floatbank6_a_air      119\n",
      "secondary_cleaner.state.floatbank6_a_level    101\n",
      "Length: 87, dtype: int64\n"
     ]
    }
   ],
   "source": [
    "print(train.isna().sum())\n",
    "print(test.isna().sum())\n",
    "print(full.isna().sum())"
   ]
  },
  {
   "cell_type": "code",
   "execution_count": 9,
   "metadata": {},
   "outputs": [
    {
     "name": "stdout",
     "output_type": "stream",
     "text": [
      "date                                          0\n",
      "final.output.concentrate_ag                   0\n",
      "final.output.concentrate_pb                   0\n",
      "final.output.concentrate_sol                  0\n",
      "final.output.concentrate_au                   0\n",
      "                                             ..\n",
      "secondary_cleaner.state.floatbank5_a_level    0\n",
      "secondary_cleaner.state.floatbank5_b_air      0\n",
      "secondary_cleaner.state.floatbank5_b_level    0\n",
      "secondary_cleaner.state.floatbank6_a_air      0\n",
      "secondary_cleaner.state.floatbank6_a_level    0\n",
      "Length: 87, dtype: int64\n",
      "date                                          0\n",
      "primary_cleaner.input.sulfate                 0\n",
      "primary_cleaner.input.depressant              0\n",
      "primary_cleaner.input.feed_size               0\n",
      "primary_cleaner.input.xanthate                0\n",
      "primary_cleaner.state.floatbank8_a_air        0\n",
      "primary_cleaner.state.floatbank8_a_level      0\n",
      "primary_cleaner.state.floatbank8_b_air        0\n",
      "primary_cleaner.state.floatbank8_b_level      0\n",
      "primary_cleaner.state.floatbank8_c_air        0\n",
      "primary_cleaner.state.floatbank8_c_level      0\n",
      "primary_cleaner.state.floatbank8_d_air        0\n",
      "primary_cleaner.state.floatbank8_d_level      0\n",
      "rougher.input.feed_ag                         0\n",
      "rougher.input.feed_pb                         0\n",
      "rougher.input.feed_rate                       0\n",
      "rougher.input.feed_size                       0\n",
      "rougher.input.feed_sol                        0\n",
      "rougher.input.feed_au                         0\n",
      "rougher.input.floatbank10_sulfate             0\n",
      "rougher.input.floatbank10_xanthate            0\n",
      "rougher.input.floatbank11_sulfate             0\n",
      "rougher.input.floatbank11_xanthate            0\n",
      "rougher.state.floatbank10_a_air               0\n",
      "rougher.state.floatbank10_a_level             0\n",
      "rougher.state.floatbank10_b_air               0\n",
      "rougher.state.floatbank10_b_level             0\n",
      "rougher.state.floatbank10_c_air               0\n",
      "rougher.state.floatbank10_c_level             0\n",
      "rougher.state.floatbank10_d_air               0\n",
      "rougher.state.floatbank10_d_level             0\n",
      "rougher.state.floatbank10_e_air               0\n",
      "rougher.state.floatbank10_e_level             0\n",
      "rougher.state.floatbank10_f_air               0\n",
      "rougher.state.floatbank10_f_level             0\n",
      "secondary_cleaner.state.floatbank2_a_air      0\n",
      "secondary_cleaner.state.floatbank2_a_level    0\n",
      "secondary_cleaner.state.floatbank2_b_air      0\n",
      "secondary_cleaner.state.floatbank2_b_level    0\n",
      "secondary_cleaner.state.floatbank3_a_air      0\n",
      "secondary_cleaner.state.floatbank3_a_level    0\n",
      "secondary_cleaner.state.floatbank3_b_air      0\n",
      "secondary_cleaner.state.floatbank3_b_level    0\n",
      "secondary_cleaner.state.floatbank4_a_air      0\n",
      "secondary_cleaner.state.floatbank4_a_level    0\n",
      "secondary_cleaner.state.floatbank4_b_air      0\n",
      "secondary_cleaner.state.floatbank4_b_level    0\n",
      "secondary_cleaner.state.floatbank5_a_air      0\n",
      "secondary_cleaner.state.floatbank5_a_level    0\n",
      "secondary_cleaner.state.floatbank5_b_air      0\n",
      "secondary_cleaner.state.floatbank5_b_level    0\n",
      "secondary_cleaner.state.floatbank6_a_air      0\n",
      "secondary_cleaner.state.floatbank6_a_level    0\n",
      "rougher.output.recovery                       0\n",
      "final.output.recovery                         0\n",
      "dtype: int64\n",
      "date                                          0\n",
      "final.output.concentrate_ag                   0\n",
      "final.output.concentrate_pb                   0\n",
      "final.output.concentrate_sol                  0\n",
      "final.output.concentrate_au                   0\n",
      "                                             ..\n",
      "secondary_cleaner.state.floatbank5_a_level    0\n",
      "secondary_cleaner.state.floatbank5_b_air      0\n",
      "secondary_cleaner.state.floatbank5_b_level    0\n",
      "secondary_cleaner.state.floatbank6_a_air      0\n",
      "secondary_cleaner.state.floatbank6_a_level    0\n",
      "Length: 87, dtype: int64\n"
     ]
    }
   ],
   "source": [
    "train = train.dropna()\n",
    "test = test.dropna()\n",
    "full = full.dropna()\n",
    "\n",
    "print(train.isna().sum())\n",
    "print(test.isna().sum())\n",
    "print(full.isna().sum())"
   ]
  },
  {
   "cell_type": "markdown",
   "metadata": {},
   "source": [
    "### Summary:\n",
    "The code first checks for duplicate rows in the training, test, and full datasets, confirming that there are no duplicates in any of them. It then prints out the count of missing values for each column in all three datasets, revealing that many columns contain some missing data. To ensure data completeness for subsequent analysis and modeling, the code applies the dropna() function to each dataset, effectively removing any rows with missing values to avoid inaccurate data results. "
   ]
  },
  {
   "cell_type": "markdown",
   "metadata": {},
   "source": [
    "## Concentration of Metals (Au, Ag, Pb)"
   ]
  },
  {
   "cell_type": "markdown",
   "metadata": {},
   "source": [
    "### Gold (Au)"
   ]
  },
  {
   "cell_type": "code",
   "execution_count": 10,
   "metadata": {},
   "outputs": [
    {
     "data": {
      "text/html": [
       "<div>\n",
       "<style scoped>\n",
       "    .dataframe tbody tr th:only-of-type {\n",
       "        vertical-align: middle;\n",
       "    }\n",
       "\n",
       "    .dataframe tbody tr th {\n",
       "        vertical-align: top;\n",
       "    }\n",
       "\n",
       "    .dataframe thead th {\n",
       "        text-align: right;\n",
       "    }\n",
       "</style>\n",
       "<table border=\"1\" class=\"dataframe\">\n",
       "  <thead>\n",
       "    <tr style=\"text-align: right;\">\n",
       "      <th></th>\n",
       "      <th>rougher.input.feed_au</th>\n",
       "      <th>rougher.output.concentrate_au</th>\n",
       "      <th>primary_cleaner.output.concentrate_au</th>\n",
       "      <th>final.output.concentrate_au</th>\n",
       "    </tr>\n",
       "  </thead>\n",
       "  <tbody>\n",
       "    <tr>\n",
       "      <th>count</th>\n",
       "      <td>16094.000000</td>\n",
       "      <td>16094.000000</td>\n",
       "      <td>16094.000000</td>\n",
       "      <td>16094.000000</td>\n",
       "    </tr>\n",
       "    <tr>\n",
       "      <th>mean</th>\n",
       "      <td>8.516990</td>\n",
       "      <td>20.052152</td>\n",
       "      <td>32.065559</td>\n",
       "      <td>44.307437</td>\n",
       "    </tr>\n",
       "    <tr>\n",
       "      <th>std</th>\n",
       "      <td>1.828474</td>\n",
       "      <td>3.620905</td>\n",
       "      <td>5.205760</td>\n",
       "      <td>4.210135</td>\n",
       "    </tr>\n",
       "    <tr>\n",
       "      <th>min</th>\n",
       "      <td>0.010000</td>\n",
       "      <td>0.000000</td>\n",
       "      <td>0.000000</td>\n",
       "      <td>0.000000</td>\n",
       "    </tr>\n",
       "    <tr>\n",
       "      <th>25%</th>\n",
       "      <td>7.080266</td>\n",
       "      <td>19.142941</td>\n",
       "      <td>30.299696</td>\n",
       "      <td>43.431184</td>\n",
       "    </tr>\n",
       "    <tr>\n",
       "      <th>50%</th>\n",
       "      <td>8.366978</td>\n",
       "      <td>20.507430</td>\n",
       "      <td>32.643752</td>\n",
       "      <td>44.986391</td>\n",
       "    </tr>\n",
       "    <tr>\n",
       "      <th>75%</th>\n",
       "      <td>9.939579</td>\n",
       "      <td>21.916971</td>\n",
       "      <td>34.828516</td>\n",
       "      <td>46.253912</td>\n",
       "    </tr>\n",
       "    <tr>\n",
       "      <th>max</th>\n",
       "      <td>13.731330</td>\n",
       "      <td>28.824507</td>\n",
       "      <td>45.933934</td>\n",
       "      <td>51.571885</td>\n",
       "    </tr>\n",
       "  </tbody>\n",
       "</table>\n",
       "</div>"
      ],
      "text/plain": [
       "       rougher.input.feed_au  rougher.output.concentrate_au  \\\n",
       "count           16094.000000                   16094.000000   \n",
       "mean                8.516990                      20.052152   \n",
       "std                 1.828474                       3.620905   \n",
       "min                 0.010000                       0.000000   \n",
       "25%                 7.080266                      19.142941   \n",
       "50%                 8.366978                      20.507430   \n",
       "75%                 9.939579                      21.916971   \n",
       "max                13.731330                      28.824507   \n",
       "\n",
       "       primary_cleaner.output.concentrate_au  final.output.concentrate_au  \n",
       "count                           16094.000000                 16094.000000  \n",
       "mean                               32.065559                    44.307437  \n",
       "std                                 5.205760                     4.210135  \n",
       "min                                 0.000000                     0.000000  \n",
       "25%                                30.299696                    43.431184  \n",
       "50%                                32.643752                    44.986391  \n",
       "75%                                34.828516                    46.253912  \n",
       "max                                45.933934                    51.571885  "
      ]
     },
     "execution_count": 10,
     "metadata": {},
     "output_type": "execute_result"
    }
   ],
   "source": [
    "gold_au = full[['rougher.input.feed_au', 'rougher.output.concentrate_au', 'primary_cleaner.output.concentrate_au', 'final.output.concentrate_au']]\n",
    "gold_au.describe()"
   ]
  },
  {
   "cell_type": "code",
   "execution_count": 11,
   "metadata": {
    "scrolled": false
   },
   "outputs": [
    {
     "data": {
      "image/png": "[encoded data removed]",
      "text/plain": [
       "<Figure size 640x480 with 1 Axes>"
      ]
     },
     "metadata": {},
     "output_type": "display_data"
    }
   ],
   "source": [
    "plt.hist(gold_au['rougher.input.feed_au'], alpha=0.6, label='Flotation Raw Material')\n",
    "plt.hist(gold_au['rougher.output.concentrate_au'], alpha=0.6, label='Flotation Product')\n",
    "plt.hist(gold_au['primary_cleaner.output.concentrate_au'], alpha=0.6, label='Primary Purification Product')\n",
    "plt.hist(gold_au['final.output.concentrate_au'], alpha=0.6, label='Final Charactaristics Product')\n",
    "\n",
    "plt.xlabel('Concentration Percentage of Gold')\n",
    "plt.legend(loc='upper left')\n",
    "plt.title('Gold')\n",
    "plt.show()"
   ]
  },
  {
   "cell_type": "markdown",
   "metadata": {},
   "source": [
    "### Summary:\n",
    "The chart provides a clear visual representation of the evolution in gold concentration throughout the ore processing stages, from the initial raw material to the final product. By comparing the distributions at each stage, stakeholders can easily assess process efficiency and identify key areas for optimization. Notably, the upward trend in concentration demonstrates the effectiveness of each process step in enhancing product quality. This insight not only validates current operational strategies but also serves as a valuable reference for strategic decisions aimed at further boosting recovery rates and overall production profitability."
   ]
  },
  {
   "cell_type": "markdown",
   "metadata": {},
   "source": [
    "### Silver (Ag)"
   ]
  },
  {
   "cell_type": "code",
   "execution_count": 12,
   "metadata": {},
   "outputs": [
    {
     "data": {
      "text/html": [
       "<div>\n",
       "<style scoped>\n",
       "    .dataframe tbody tr th:only-of-type {\n",
       "        vertical-align: middle;\n",
       "    }\n",
       "\n",
       "    .dataframe tbody tr th {\n",
       "        vertical-align: top;\n",
       "    }\n",
       "\n",
       "    .dataframe thead th {\n",
       "        text-align: right;\n",
       "    }\n",
       "</style>\n",
       "<table border=\"1\" class=\"dataframe\">\n",
       "  <thead>\n",
       "    <tr style=\"text-align: right;\">\n",
       "      <th></th>\n",
       "      <th>rougher.input.feed_ag</th>\n",
       "      <th>rougher.output.concentrate_ag</th>\n",
       "      <th>primary_cleaner.output.concentrate_ag</th>\n",
       "      <th>final.output.concentrate_ag</th>\n",
       "    </tr>\n",
       "  </thead>\n",
       "  <tbody>\n",
       "    <tr>\n",
       "      <th>count</th>\n",
       "      <td>16094.000000</td>\n",
       "      <td>16094.000000</td>\n",
       "      <td>16094.000000</td>\n",
       "      <td>16094.000000</td>\n",
       "    </tr>\n",
       "    <tr>\n",
       "      <th>mean</th>\n",
       "      <td>8.985281</td>\n",
       "      <td>12.084945</td>\n",
       "      <td>8.674853</td>\n",
       "      <td>5.190976</td>\n",
       "    </tr>\n",
       "    <tr>\n",
       "      <th>std</th>\n",
       "      <td>1.910084</td>\n",
       "      <td>2.697948</td>\n",
       "      <td>1.944943</td>\n",
       "      <td>1.333257</td>\n",
       "    </tr>\n",
       "    <tr>\n",
       "      <th>min</th>\n",
       "      <td>0.010000</td>\n",
       "      <td>0.000000</td>\n",
       "      <td>0.000000</td>\n",
       "      <td>0.000000</td>\n",
       "    </tr>\n",
       "    <tr>\n",
       "      <th>25%</th>\n",
       "      <td>7.426978</td>\n",
       "      <td>10.664288</td>\n",
       "      <td>7.531083</td>\n",
       "      <td>4.277722</td>\n",
       "    </tr>\n",
       "    <tr>\n",
       "      <th>50%</th>\n",
       "      <td>8.882196</td>\n",
       "      <td>12.232367</td>\n",
       "      <td>8.723466</td>\n",
       "      <td>5.083578</td>\n",
       "    </tr>\n",
       "    <tr>\n",
       "      <th>75%</th>\n",
       "      <td>10.398254</td>\n",
       "      <td>13.835104</td>\n",
       "      <td>9.955605</td>\n",
       "      <td>5.894149</td>\n",
       "    </tr>\n",
       "    <tr>\n",
       "      <th>max</th>\n",
       "      <td>14.596026</td>\n",
       "      <td>21.725695</td>\n",
       "      <td>15.005789</td>\n",
       "      <td>16.001945</td>\n",
       "    </tr>\n",
       "  </tbody>\n",
       "</table>\n",
       "</div>"
      ],
      "text/plain": [
       "       rougher.input.feed_ag  rougher.output.concentrate_ag  \\\n",
       "count           16094.000000                   16094.000000   \n",
       "mean                8.985281                      12.084945   \n",
       "std                 1.910084                       2.697948   \n",
       "min                 0.010000                       0.000000   \n",
       "25%                 7.426978                      10.664288   \n",
       "50%                 8.882196                      12.232367   \n",
       "75%                10.398254                      13.835104   \n",
       "max                14.596026                      21.725695   \n",
       "\n",
       "       primary_cleaner.output.concentrate_ag  final.output.concentrate_ag  \n",
       "count                           16094.000000                 16094.000000  \n",
       "mean                                8.674853                     5.190976  \n",
       "std                                 1.944943                     1.333257  \n",
       "min                                 0.000000                     0.000000  \n",
       "25%                                 7.531083                     4.277722  \n",
       "50%                                 8.723466                     5.083578  \n",
       "75%                                 9.955605                     5.894149  \n",
       "max                                15.005789                    16.001945  "
      ]
     },
     "execution_count": 12,
     "metadata": {},
     "output_type": "execute_result"
    }
   ],
   "source": [
    "silver_ag = full[['rougher.input.feed_ag', 'rougher.output.concentrate_ag', 'primary_cleaner.output.concentrate_ag', 'final.output.concentrate_ag']]\n",
    "silver_ag.describe()"
   ]
  },
  {
   "cell_type": "code",
   "execution_count": 13,
   "metadata": {},
   "outputs": [
    {
     "data": {
      "image/png": "[encoded data removed]",
      "text/plain": [
       "<Figure size 1000x1000 with 1 Axes>"
      ]
     },
     "metadata": {},
     "output_type": "display_data"
    }
   ],
   "source": [
    "fig = plt.figure(figsize=(10, 10))\n",
    "plt.hist(silver_ag['rougher.input.feed_ag'], alpha=0.6, label='Flotation Raw Material')\n",
    "plt.hist(silver_ag['rougher.output.concentrate_ag'], alpha=0.6, label='Flotation Product')\n",
    "plt.hist(silver_ag['primary_cleaner.output.concentrate_ag'], alpha=0.6, label='Primary Purification Product')\n",
    "plt.hist(silver_ag['final.output.concentrate_ag'], alpha=0.6, label='Final Charactaristics Product')\n",
    "\n",
    "plt.xlabel('Concentration Percentage of Silver')\n",
    "plt.legend(loc='upper right')\n",
    "plt.title('Silver')\n",
    "plt.show()"
   ]
  },
  {
   "cell_type": "markdown",
   "metadata": {},
   "source": [
    "### Summary:\n",
    "The chart provides a compelling visual analysis of silver concentration levels across various stages of the ore processing operation. From the feed to the final concentrate, we observe a reduction in concentration, which may indicate that certain stages, including primary purification, are not as effective in enhancing silver recovery compared to gold. These insights present actionable avenues for process optimization, where enhancing silver recovery rates can yield a more profitable production outcome. This analysis plays a crucial role in refining operational strategies and making informed decisions that maximize silver yield in the final product"
   ]
  },
  {
   "cell_type": "markdown",
   "metadata": {},
   "source": [
    "### Lead (Pb)"
   ]
  },
  {
   "cell_type": "code",
   "execution_count": 14,
   "metadata": {},
   "outputs": [
    {
     "data": {
      "text/html": [
       "<div>\n",
       "<style scoped>\n",
       "    .dataframe tbody tr th:only-of-type {\n",
       "        vertical-align: middle;\n",
       "    }\n",
       "\n",
       "    .dataframe tbody tr th {\n",
       "        vertical-align: top;\n",
       "    }\n",
       "\n",
       "    .dataframe thead th {\n",
       "        text-align: right;\n",
       "    }\n",
       "</style>\n",
       "<table border=\"1\" class=\"dataframe\">\n",
       "  <thead>\n",
       "    <tr style=\"text-align: right;\">\n",
       "      <th></th>\n",
       "      <th>rougher.input.feed_pb</th>\n",
       "      <th>rougher.output.concentrate_pb</th>\n",
       "      <th>primary_cleaner.output.concentrate_pb</th>\n",
       "      <th>final.output.concentrate_pb</th>\n",
       "    </tr>\n",
       "  </thead>\n",
       "  <tbody>\n",
       "    <tr>\n",
       "      <th>0</th>\n",
       "      <td>2.284912</td>\n",
       "      <td>7.101074</td>\n",
       "      <td>10.389648</td>\n",
       "      <td>9.889648</td>\n",
       "    </tr>\n",
       "    <tr>\n",
       "      <th>1</th>\n",
       "      <td>2.266033</td>\n",
       "      <td>7.278807</td>\n",
       "      <td>10.497069</td>\n",
       "      <td>9.968944</td>\n",
       "    </tr>\n",
       "    <tr>\n",
       "      <th>2</th>\n",
       "      <td>2.159622</td>\n",
       "      <td>7.216833</td>\n",
       "      <td>10.354494</td>\n",
       "      <td>10.213995</td>\n",
       "    </tr>\n",
       "    <tr>\n",
       "      <th>3</th>\n",
       "      <td>2.037807</td>\n",
       "      <td>7.175616</td>\n",
       "      <td>8.496563</td>\n",
       "      <td>9.977019</td>\n",
       "    </tr>\n",
       "    <tr>\n",
       "      <th>4</th>\n",
       "      <td>1.786875</td>\n",
       "      <td>7.240205</td>\n",
       "      <td>9.986786</td>\n",
       "      <td>10.142511</td>\n",
       "    </tr>\n",
       "  </tbody>\n",
       "</table>\n",
       "</div>"
      ],
      "text/plain": [
       "   rougher.input.feed_pb  rougher.output.concentrate_pb  \\\n",
       "0               2.284912                       7.101074   \n",
       "1               2.266033                       7.278807   \n",
       "2               2.159622                       7.216833   \n",
       "3               2.037807                       7.175616   \n",
       "4               1.786875                       7.240205   \n",
       "\n",
       "   primary_cleaner.output.concentrate_pb  final.output.concentrate_pb  \n",
       "0                              10.389648                     9.889648  \n",
       "1                              10.497069                     9.968944  \n",
       "2                              10.354494                    10.213995  \n",
       "3                               8.496563                     9.977019  \n",
       "4                               9.986786                    10.142511  "
      ]
     },
     "execution_count": 14,
     "metadata": {},
     "output_type": "execute_result"
    }
   ],
   "source": [
    "lead_pb = full[['rougher.input.feed_pb', 'rougher.output.concentrate_pb', 'primary_cleaner.output.concentrate_pb', 'final.output.concentrate_pb']]\n",
    "lead_pb.head()"
   ]
  },
  {
   "cell_type": "code",
   "execution_count": 15,
   "metadata": {},
   "outputs": [
    {
     "data": {
      "image/png": "[encoded data removed]",
      "text/plain": [
       "<Figure size 1000x1000 with 1 Axes>"
      ]
     },
     "metadata": {},
     "output_type": "display_data"
    }
   ],
   "source": [
    "fig = plt.figure(figsize=(10, 10))\n",
    "plt.hist(lead_pb['rougher.input.feed_pb'], alpha=0.6, label='Flotation Raw Material')\n",
    "plt.hist(lead_pb['rougher.output.concentrate_pb'], alpha=0.6, label='Flotation Product')\n",
    "plt.hist(lead_pb['primary_cleaner.output.concentrate_pb'], alpha=0.6, label='Primary Purification Product')\n",
    "plt.hist(lead_pb['final.output.concentrate_pb'], alpha=0.6, label='Final Charactaristics Product')\n",
    "\n",
    "plt.xlabel('Concentration Percentage of Lead')\n",
    "plt.legend(loc='upper left')\n",
    "plt.title('Lead')\n",
    "plt.show()"
   ]
  },
  {
   "cell_type": "markdown",
   "metadata": {},
   "source": [
    "### Summary:\n",
    "The data reveals how the concentration of lead increases as the ore is processed, underscoring the efficiency of the recovery process. For business stakeholders, this visualization provides critical insights into the performance and consistency of each stage, helping identify potential bottlenecks or areas for process optimization. By understanding these trends, decision-makers can implement targeted improvements to boost overall recovery rates and enhance the profitability of the production pipeline."
   ]
  },
  {
   "cell_type": "markdown",
   "metadata": {},
   "source": [
    "### Flotation Raw Material"
   ]
  },
  {
   "cell_type": "code",
   "execution_count": 16,
   "metadata": {},
   "outputs": [
    {
     "data": {
      "image/png": "[encoded data removed]",
      "text/plain": [
       "<Figure size 1000x1000 with 1 Axes>"
      ]
     },
     "metadata": {},
     "output_type": "display_data"
    }
   ],
   "source": [
    "fig = plt.figure(figsize=(10, 10))\n",
    "plt.hist(gold_au['rougher.input.feed_au'], alpha=0.6, label='Gold')\n",
    "plt.hist(silver_ag['rougher.input.feed_ag'], alpha=0.5, label='Silver')\n",
    "plt.hist(lead_pb['rougher.input.feed_pb'], alpha=0.9, label='Lead')\n",
    "plt.title('Flotation Raw Material')\n",
    "plt.xlabel('Concentration of Metals')\n",
    "plt.legend(loc='upper right')\n",
    "plt.show()"
   ]
  },
  {
   "cell_type": "markdown",
   "metadata": {},
   "source": [
    "### Flotation Product"
   ]
  },
  {
   "cell_type": "code",
   "execution_count": 17,
   "metadata": {},
   "outputs": [
    {
     "data": {
      "image/png": "[encoded data removed]",
      "text/plain": [
       "<Figure size 1000x1000 with 1 Axes>"
      ]
     },
     "metadata": {},
     "output_type": "display_data"
    }
   ],
   "source": [
    "fig = plt.figure(figsize=(10, 10))\n",
    "plt.hist(gold_au['rougher.output.concentrate_au'], alpha=0.7, label='Gold')\n",
    "plt.hist(silver_ag['rougher.output.concentrate_ag'], alpha=0.5, label='Silver')\n",
    "plt.hist(lead_pb['rougher.output.concentrate_pb'], alpha=0.9, label='Lead')\n",
    "plt.title('Floation Product')\n",
    "plt.xlabel('Concentration of Metals')\n",
    "plt.legend(loc='upper right')\n",
    "plt.show()"
   ]
  },
  {
   "cell_type": "markdown",
   "metadata": {},
   "source": [
    "### Primary Purification Product"
   ]
  },
  {
   "cell_type": "code",
   "execution_count": 18,
   "metadata": {},
   "outputs": [
    {
     "data": {
      "image/png": "[encoded data removed]",
      "text/plain": [
       "<Figure size 1000x1000 with 1 Axes>"
      ]
     },
     "metadata": {},
     "output_type": "display_data"
    }
   ],
   "source": [
    "fig = plt.figure(figsize=(10, 10))\n",
    "plt.hist(gold_au['primary_cleaner.output.concentrate_au'], alpha=0.7, label='Gold')\n",
    "plt.hist(silver_ag['primary_cleaner.output.concentrate_ag'], alpha=0.5, label='Silver')\n",
    "plt.hist(lead_pb['primary_cleaner.output.concentrate_pb'],alpha=0.9, label='Lead')\n",
    "plt.title('Primary Purification Product')\n",
    "plt.xlabel('Concentration of Metals')\n",
    "plt.legend(loc='upper right')\n",
    "plt.show()"
   ]
  },
  {
   "cell_type": "markdown",
   "metadata": {},
   "source": [
    "### Final Characteristics Product"
   ]
  },
  {
   "cell_type": "code",
   "execution_count": 19,
   "metadata": {
    "scrolled": false
   },
   "outputs": [
    {
     "data": {
      "image/png": "[encoded data removed]",
      "text/plain": [
       "<Figure size 1000x1000 with 1 Axes>"
      ]
     },
     "metadata": {},
     "output_type": "display_data"
    }
   ],
   "source": [
    "fig = plt.figure(figsize=(10, 10))\n",
    "plt.hist(gold_au['final.output.concentrate_au'], alpha=0.7, label='Gold')\n",
    "plt.hist(silver_ag['final.output.concentrate_ag'], alpha=0.5, label='Silver')\n",
    "plt.hist(lead_pb['final.output.concentrate_pb'], alpha=0.9, label='Lead')\n",
    "plt.title('Final Characteristics Product')\n",
    "plt.xlabel('Concentration of Metals')\n",
    "plt.legend(loc='upper right')\n",
    "plt.show()"
   ]
  },
  {
   "cell_type": "markdown",
   "metadata": {},
   "source": [
    "### Summary:\n",
    "These charts provide a clear visual comparison of how gold, silver, and lead concentrations evolve through each stage of the production process. Notably, gold shows a substantial increase in concentration from the early stages through to the final product, reflecting the efficiency of the recovery process. Silver and lead also follow discernible patterns of enrichment, albeit with their own distinct distributions and final concentration levels. By examining these histograms, decision-makers can gauge the relative effectiveness of each purification step, identify potential bottlenecks, and refine operational strategies to maximize metal recovery. Ultimately, these insights help ensure that resources are allocated efficiently and that the production process delivers the highest possible value."
   ]
  },
  {
   "cell_type": "markdown",
   "metadata": {},
   "source": [
    "## Compare Feed Particle Size Distributions"
   ]
  },
  {
   "cell_type": "code",
   "execution_count": 20,
   "metadata": {},
   "outputs": [
    {
     "data": {
      "image/png": "[encoded data removed]",
      "text/plain": [
       "<Figure size 1000x1000 with 1 Axes>"
      ]
     },
     "metadata": {},
     "output_type": "display_data"
    }
   ],
   "source": [
    "fig = plt.figure(figsize=(10, 10))\n",
    "plt.hist(test['primary_cleaner.input.feed_size'], alpha=0.8,bins=50,label='Test set',density=True)\n",
    "plt.hist(train['primary_cleaner.input.feed_size'], alpha=0.5,bins=50,label='Train set',density=True)\n",
    "plt.title('Primary Cleaner Feed Size')\n",
    "plt.xlabel('Feed Size Primary Purification')\n",
    "plt.legend(loc='upper right')\n",
    "plt.show()"
   ]
  },
  {
   "cell_type": "code",
   "execution_count": 21,
   "metadata": {},
   "outputs": [
    {
     "data": {
      "image/png": "[encoded data removed]",
      "text/plain": [
       "<Figure size 1000x1000 with 1 Axes>"
      ]
     },
     "metadata": {},
     "output_type": "display_data"
    }
   ],
   "source": [
    "fig = plt.figure(figsize=(10, 10))\n",
    "plt.hist(test['rougher.input.feed_size'], alpha=0.8, bins=50, label='Test set', density=True)\n",
    "plt.hist(train['rougher.input.feed_size'], alpha=0.5, bins=50, label='Train set', density=True)\n",
    "plt.title('Rougher Feed Size')\n",
    "plt.xlabel('Feed Size during Flotation')\n",
    "plt.legend(loc='upper right')\n",
    "plt.show()"
   ]
  },
  {
   "cell_type": "markdown",
   "metadata": {},
   "source": [
    "### Summary:\n",
    "These charts show the feed size distributions for both the training and test datasets at two critical stages: primary cleaning and rougher processing. The close alignment of the distributions between the training and test sets suggests that the model will generalize well, as the test data appears to come from a similar operational regime. This consistency reduces the risk of performance discrepancies and provides greater confidence in the reliability of predictive insights for optimizing the production process."
   ]
  },
  {
   "cell_type": "markdown",
   "metadata": {},
   "source": [
    "### Compare Total Concentrations"
   ]
  },
  {
   "cell_type": "code",
   "execution_count": 22,
   "metadata": {},
   "outputs": [],
   "source": [
    "total_concentrations_rougherinput = full['rougher.input.feed_au'] + full['rougher.input.feed_ag'] + full['rougher.input.feed_pb']\n",
    "total_concentrations_rougheroutput = full['rougher.output.concentrate_au'] + full['rougher.output.concentrate_ag'] + full['rougher.output.concentrate_pb']\n",
    "total_concentrations_primarycleaner = full['primary_cleaner.output.concentrate_au'] + full['primary_cleaner.output.concentrate_ag'] + full['primary_cleaner.output.concentrate_pb']\n",
    "total_concentrations_finaloutput = full['final.output.concentrate_au'] + full['final.output.concentrate_ag'] + full['final.output.concentrate_pb']"
   ]
  },
  {
   "cell_type": "code",
   "execution_count": 23,
   "metadata": {},
   "outputs": [
    {
     "data": {
      "image/png": "[encoded data removed]",
      "text/plain": [
       "<Figure size 1000x1000 with 1 Axes>"
      ]
     },
     "metadata": {},
     "output_type": "display_data"
    }
   ],
   "source": [
    "fig = plt.figure(figsize=(10, 10))\n",
    "plt.hist(total_concentrations_rougherinput, alpha=0.8, bins=50, label='Rougher Input')\n",
    "plt.hist(total_concentrations_rougheroutput, alpha=0.8, bins=50, label='Rougher Output')\n",
    "plt.hist(total_concentrations_primarycleaner, alpha=0.8, bins=50, label='Primary Cleaner')\n",
    "plt.hist(total_concentrations_finaloutput, alpha=0.8, bins=50, label='Final Output')\n",
    "\n",
    "plt.legend(loc='upper left')\n",
    "plt.xlabel('Total Cocentration of Metals by Stage Percentage')\n",
    "plt.show()"
   ]
  },
  {
   "cell_type": "markdown",
   "metadata": {},
   "source": [
    "## Model"
   ]
  },
  {
   "cell_type": "markdown",
   "metadata": {},
   "source": [
    "### sMAPE"
   ]
  },
  {
   "cell_type": "code",
   "execution_count": 24,
   "metadata": {},
   "outputs": [],
   "source": [
    "def smape(actual, predicted):\n",
    "    numerator = np.abs(predicted - actual)\n",
    "    denominator = (np.abs(actual) + np.abs(predicted)) / 2\n",
    "    smape = np.mean(numerator / denominator) * 100\n",
    "    \n",
    "    return smape\n",
    "\n",
    "def smape2(a, p):\n",
    "    rougher = smape(a.iloc[:, 0], p[:, 0])\n",
    "    final = smape(a.iloc[:, 1], p[:, 1])\n",
    "    \n",
    "    return rougher * .25 + final * .75\n",
    "\n",
    "smape_scorer = make_scorer(smape2, greater_is_better=False)"
   ]
  },
  {
   "cell_type": "code",
   "execution_count": 25,
   "metadata": {},
   "outputs": [
    {
     "name": "stdout",
     "output_type": "stream",
     "text": [
      "(11017, 52)\n",
      "(11017, 2)\n",
      "(5229, 52)\n",
      "(5229, 2)\n"
     ]
    }
   ],
   "source": [
    "test_columns = test.columns.tolist()\n",
    "train = train.filter(items=test_columns)\n",
    "\n",
    "features_train = train.drop(['date', 'rougher.output.recovery', 'final.output.recovery'], axis=1)\n",
    "target_train = train[['rougher.output.recovery', 'final.output.recovery']]\n",
    "\n",
    "features_test = test.drop(['date', 'rougher.output.recovery', 'final.output.recovery'], axis=1)\n",
    "target_test = test[['rougher.output.recovery', 'final.output.recovery']]\n",
    "\n",
    "print(features_train.shape)\n",
    "print(target_train.shape)\n",
    "print(features_test.shape)\n",
    "print(target_test.shape)"
   ]
  },
  {
   "cell_type": "markdown",
   "metadata": {},
   "source": [
    "### Linear Regression"
   ]
  },
  {
   "cell_type": "code",
   "execution_count": 26,
   "metadata": {},
   "outputs": [
    {
     "name": "stdout",
     "output_type": "stream",
     "text": [
      "sMAPE: 10.290896728293305\n"
     ]
    }
   ],
   "source": [
    "model = LinearRegression()\n",
    "model.fit(features_train, target_train)\n",
    "predictions = model.predict(features_train)\n",
    "\n",
    "values = cross_val_score(model, features_train, target_train, cv=5, scoring = smape_scorer)\n",
    "values = -values.mean()\n",
    "\n",
    "print('sMAPE:', values)"
   ]
  },
  {
   "cell_type": "markdown",
   "metadata": {},
   "source": [
    "### Decision Tree"
   ]
  },
  {
   "cell_type": "code",
   "execution_count": 30,
   "metadata": {},
   "outputs": [
    {
     "name": "stdout",
     "output_type": "stream",
     "text": [
      "sMAPE: 10.086999009586341 Depth: 1\n",
      "sMAPE: 9.256795905147511 Depth: 2\n",
      "sMAPE: 9.275484912199762 Depth: 3\n",
      "sMAPE: 9.845057310508967 Depth: 4\n",
      "sMAPE: 10.151698216441845 Depth: 5\n",
      "\n",
      "Best sMAPE: 9.256795905147511 Best Depth: 2\n"
     ]
    }
   ],
   "source": [
    "best_depth = 0\n",
    "best_smape = 100\n",
    "\n",
    "for depth in range(1,6):\n",
    "    model = DecisionTreeRegressor(max_depth=depth)\n",
    "    model.fit(features_train, target_train)\n",
    "    predictions = model.predict(features_test)\n",
    "\n",
    "    values = cross_val_score(model, features_train, target_train, cv=5,scoring=smape_scorer)\n",
    "    values = -values.mean()\n",
    "    \n",
    "    print(\"sMAPE:\", values, \"Depth:\", depth)\n",
    "    \n",
    "    if values < best_smape:\n",
    "        best_depth = depth\n",
    "        best_smape = values\n",
    "        \n",
    "print()\n",
    "print(\"Best sMAPE:\", best_smape, \"Best Depth:\", best_depth)"
   ]
  },
  {
   "cell_type": "markdown",
   "metadata": {},
   "source": [
    "### Random Forest"
   ]
  },
  {
   "cell_type": "code",
   "execution_count": 32,
   "metadata": {},
   "outputs": [
    {
     "name": "stdout",
     "output_type": "stream",
     "text": [
      "sMAPE: 9.03521693559292 Estimators: 10\n",
      "sMAPE: 9.06359116731708 Estimators: 20\n",
      "sMAPE: 9.042671634015822 Estimators: 30\n",
      "sMAPE: 9.04526549029471 Estimators: 40\n",
      "sMAPE: 9.061766689478146 Estimators: 50\n",
      "\n",
      "Best sMAPE: 9.03521693559292 Best estimators: 10\n"
     ]
    }
   ],
   "source": [
    "best_estimators = 0\n",
    "best_smape = 100\n",
    "\n",
    "for est in range(10, 51, 10):\n",
    "    model = RandomForestRegressor(n_estimators=est, max_depth=2, random_state=12345)\n",
    "    model.fit(features_train, target_train)\n",
    "    predictions = model.predict(features_test)\n",
    "\n",
    "    values = cross_val_score(model, features_train, target_train, cv=5,scoring=smape_scorer)\n",
    "    values = -values.mean()\n",
    "    \n",
    "    print(\"sMAPE:\", values, \"Estimators:\", est)\n",
    "    \n",
    "    if values < best_smape:\n",
    "        best_estimators = est\n",
    "        best_smape = values\n",
    "\n",
    "print()\n",
    "print(\"Best sMAPE:\", best_smape, \"Best estimators:\", best_estimators)"
   ]
  },
  {
   "cell_type": "markdown",
   "metadata": {},
   "source": [
    "## Best Model"
   ]
  },
  {
   "cell_type": "code",
   "execution_count": 33,
   "metadata": {},
   "outputs": [
    {
     "name": "stdout",
     "output_type": "stream",
     "text": [
      "Best sMAPE: 9.03521693559292\n"
     ]
    }
   ],
   "source": [
    "model = RandomForestRegressor(n_estimators=10, max_depth=2, random_state=12345)\n",
    "model.fit(features_train, target_train)\n",
    "predictions = model.predict(features_test)\n",
    "\n",
    "values = cross_val_score(model, features_train, target_train, cv=5,scoring=smape_scorer)\n",
    "values = -values.mean()\n",
    "\n",
    "print(\"Best sMAPE:\", values)"
   ]
  },
  {
   "cell_type": "markdown",
   "metadata": {},
   "source": [
    "### Summary:\n",
    "The modeling experiments clearly indicate that tuning machine learning models can significantly enhance prediction accuracy. Initially, a linear regression model achieved an sMAPE of 10.29, demonstrating a baseline level of performance. However, by experimenting with a Decision Tree model, the sMAPE improved to 9.26 with a maximum depth of 2. Further optimization using a Random Forest model—with 10 estimators and a maximum depth of 2—yielded the best performance, achieving an sMAPE of 9.04. This refined model not only underscores the value of iterative testing and parameter tuning but also positions us to drive more informed, data driven decisions to optimize recovery processes and enhance operational efficiency."
   ]
  },
  {
   "cell_type": "markdown",
   "metadata": {},
   "source": [
    "## Final Conclusion:\n",
    "In conclusion, our analysis of the gold ore processing data has provided valuable insights at every step of the production chain. The comprehensive dataset, which was rigorously cleaned and augmented, enabled us to thoroughly assess process efficiency through detailed visualizations of gold, silver, and lead concentration changes across each purification stage. Consistency in feed size distributions between training and test sets further reinforces the reliability of our predictive models. Notably, the Random Forest model outperformed other approaches, delivering an sMAPE of approximately 9.035%, thereby offering a robust, interpretable, and cost-effective solution for forecasting recovery rates. These findings equip decision makers with actionable intelligence to optimize operations, enhance recovery efficiencies, and ultimately boost production profitability."
   ]
  }
 ],
 "metadata": {
  "ExecuteTimeLog": [
   {
    "duration": 3073,
    "start_time": "2025-02-21T21:57:22.152Z"
   },
   {
    "duration": 247,
    "start_time": "2025-02-21T21:59:17.321Z"
   },
   {
    "duration": 557,
    "start_time": "2025-02-21T21:59:23.393Z"
   },
   {
    "duration": 513,
    "start_time": "2025-02-21T21:59:50.090Z"
   },
   {
    "duration": 1103,
    "start_time": "2025-02-21T22:03:11.602Z"
   },
   {
    "duration": 13,
    "start_time": "2025-02-21T22:06:14.475Z"
   },
   {
    "duration": 77,
    "start_time": "2025-02-21T22:09:26.688Z"
   },
   {
    "duration": 22,
    "start_time": "2025-02-21T22:09:44.879Z"
   },
   {
    "duration": 1626,
    "start_time": "2025-02-21T22:10:25.971Z"
   },
   {
    "duration": 6,
    "start_time": "2025-02-21T22:10:27.599Z"
   },
   {
    "duration": 192,
    "start_time": "2025-02-21T22:10:27.607Z"
   },
   {
    "duration": 9,
    "start_time": "2025-02-21T22:10:47.002Z"
   },
   {
    "duration": 16,
    "start_time": "2025-02-21T22:12:04.121Z"
   },
   {
    "duration": 158,
    "start_time": "2025-02-21T22:13:56.512Z"
   },
   {
    "duration": 161,
    "start_time": "2025-02-21T22:14:53.909Z"
   },
   {
    "duration": 107,
    "start_time": "2025-02-21T22:15:07.179Z"
   },
   {
    "duration": 13,
    "start_time": "2025-02-21T22:15:17.338Z"
   },
   {
    "duration": 1500,
    "start_time": "2025-02-21T22:15:36.968Z"
   },
   {
    "duration": 5,
    "start_time": "2025-02-21T22:15:38.470Z"
   },
   {
    "duration": 23,
    "start_time": "2025-02-21T22:15:38.477Z"
   },
   {
    "duration": 170,
    "start_time": "2025-02-21T22:15:38.502Z"
   },
   {
    "duration": 246,
    "start_time": "2025-02-21T22:15:38.674Z"
   },
   {
    "duration": 13,
    "start_time": "2025-02-21T22:16:17.616Z"
   },
   {
    "duration": 1513,
    "start_time": "2025-02-21T22:16:31.017Z"
   },
   {
    "duration": 6,
    "start_time": "2025-02-21T22:16:32.533Z"
   },
   {
    "duration": 17,
    "start_time": "2025-02-21T22:16:32.540Z"
   },
   {
    "duration": 187,
    "start_time": "2025-02-21T22:16:32.559Z"
   },
   {
    "duration": 219,
    "start_time": "2025-02-21T22:16:32.748Z"
   },
   {
    "duration": 13,
    "start_time": "2025-02-21T22:18:18.660Z"
   },
   {
    "duration": 1530,
    "start_time": "2025-02-21T22:18:23.443Z"
   },
   {
    "duration": 5,
    "start_time": "2025-02-21T22:18:24.976Z"
   },
   {
    "duration": 20,
    "start_time": "2025-02-21T22:18:24.982Z"
   },
   {
    "duration": 4,
    "start_time": "2025-02-21T22:18:25.004Z"
   },
   {
    "duration": 1508,
    "start_time": "2025-02-21T22:19:32.686Z"
   },
   {
    "duration": 6,
    "start_time": "2025-02-21T22:19:34.196Z"
   },
   {
    "duration": 9,
    "start_time": "2025-02-21T22:19:34.203Z"
   },
   {
    "duration": 229,
    "start_time": "2025-02-21T22:20:56.926Z"
   },
   {
    "duration": 4,
    "start_time": "2025-02-21T22:21:03.229Z"
   },
   {
    "duration": 5,
    "start_time": "2025-02-21T22:21:20.620Z"
   },
   {
    "duration": 32,
    "start_time": "2025-02-21T22:23:12.416Z"
   },
   {
    "duration": 16,
    "start_time": "2025-02-21T22:23:17.385Z"
   },
   {
    "duration": 1489,
    "start_time": "2025-02-21T22:26:07.848Z"
   },
   {
    "duration": 5,
    "start_time": "2025-02-21T22:26:09.340Z"
   },
   {
    "duration": 5,
    "start_time": "2025-02-21T22:26:09.347Z"
   },
   {
    "duration": 4,
    "start_time": "2025-02-21T22:26:09.354Z"
   },
   {
    "duration": 37,
    "start_time": "2025-02-21T22:26:09.360Z"
   },
   {
    "duration": 3,
    "start_time": "2025-02-21T22:28:35.822Z"
   },
   {
    "duration": 230,
    "start_time": "2025-02-21T22:30:31.178Z"
   },
   {
    "duration": 23,
    "start_time": "2025-02-21T22:30:37.931Z"
   },
   {
    "duration": 3,
    "start_time": "2025-02-21T22:30:42.221Z"
   },
   {
    "duration": 1527,
    "start_time": "2025-02-21T22:30:47.556Z"
   },
   {
    "duration": 5,
    "start_time": "2025-02-21T22:30:49.087Z"
   },
   {
    "duration": 5,
    "start_time": "2025-02-21T22:30:49.094Z"
   },
   {
    "duration": 3,
    "start_time": "2025-02-21T22:30:49.102Z"
   },
   {
    "duration": 20,
    "start_time": "2025-02-21T22:30:49.108Z"
   },
   {
    "duration": 5,
    "start_time": "2025-02-21T22:30:49.130Z"
   },
   {
    "duration": 171,
    "start_time": "2025-02-21T22:33:06.281Z"
   },
   {
    "duration": 1585,
    "start_time": "2025-02-21T22:33:20.697Z"
   },
   {
    "duration": 5,
    "start_time": "2025-02-21T22:33:22.287Z"
   },
   {
    "duration": 6,
    "start_time": "2025-02-21T22:33:22.296Z"
   },
   {
    "duration": 3,
    "start_time": "2025-02-21T22:33:22.304Z"
   },
   {
    "duration": 23,
    "start_time": "2025-02-21T22:33:22.309Z"
   },
   {
    "duration": 3,
    "start_time": "2025-02-21T22:33:22.334Z"
   },
   {
    "duration": 204,
    "start_time": "2025-02-21T22:33:22.338Z"
   },
   {
    "duration": 7,
    "start_time": "2025-02-21T22:34:12.731Z"
   },
   {
    "duration": 13,
    "start_time": "2025-02-21T22:34:30.532Z"
   },
   {
    "duration": 38,
    "start_time": "2025-02-21T22:34:47.947Z"
   },
   {
    "duration": 1556,
    "start_time": "2025-02-21T22:35:11.718Z"
   },
   {
    "duration": 13,
    "start_time": "2025-02-21T22:35:13.277Z"
   },
   {
    "duration": 7,
    "start_time": "2025-02-21T22:35:13.292Z"
   },
   {
    "duration": 3,
    "start_time": "2025-02-21T22:35:13.302Z"
   },
   {
    "duration": 24,
    "start_time": "2025-02-21T22:35:13.307Z"
   },
   {
    "duration": 3,
    "start_time": "2025-02-21T22:35:13.333Z"
   },
   {
    "duration": 202,
    "start_time": "2025-02-21T22:35:13.338Z"
   },
   {
    "duration": 10,
    "start_time": "2025-02-21T22:35:13.542Z"
   },
   {
    "duration": 32,
    "start_time": "2025-02-21T22:35:13.555Z"
   },
   {
    "duration": 20,
    "start_time": "2025-02-21T22:35:28.722Z"
   },
   {
    "duration": 537,
    "start_time": "2025-02-21T22:39:19.723Z"
   },
   {
    "duration": 46,
    "start_time": "2025-02-21T22:39:31.838Z"
   },
   {
    "duration": 11,
    "start_time": "2025-02-21T22:40:26.873Z"
   },
   {
    "duration": 155,
    "start_time": "2025-02-21T22:43:42.184Z"
   },
   {
    "duration": 149,
    "start_time": "2025-02-21T22:43:53.538Z"
   },
   {
    "duration": 200,
    "start_time": "2025-02-21T22:43:56.524Z"
   },
   {
    "duration": 17,
    "start_time": "2025-02-21T22:44:15.947Z"
   },
   {
    "duration": 18,
    "start_time": "2025-02-21T22:46:34.789Z"
   },
   {
    "duration": 253,
    "start_time": "2025-02-21T22:47:15.237Z"
   },
   {
    "duration": 264,
    "start_time": "2025-02-21T22:47:28.294Z"
   },
   {
    "duration": 165,
    "start_time": "2025-02-21T22:47:35.499Z"
   },
   {
    "duration": 247,
    "start_time": "2025-02-21T22:47:54.018Z"
   },
   {
    "duration": 17,
    "start_time": "2025-02-21T22:49:49.410Z"
   },
   {
    "duration": 8,
    "start_time": "2025-02-21T22:49:53.545Z"
   },
   {
    "duration": 10,
    "start_time": "2025-02-21T22:50:25.659Z"
   },
   {
    "duration": 170,
    "start_time": "2025-02-21T22:50:59.646Z"
   },
   {
    "duration": 202,
    "start_time": "2025-02-21T22:51:10.799Z"
   },
   {
    "duration": 213,
    "start_time": "2025-02-21T22:51:18.268Z"
   },
   {
    "duration": 2,
    "start_time": "2025-02-21T22:53:37.552Z"
   },
   {
    "duration": 171,
    "start_time": "2025-02-21T22:55:34.486Z"
   },
   {
    "duration": 173,
    "start_time": "2025-02-21T22:56:47.525Z"
   },
   {
    "duration": 176,
    "start_time": "2025-02-21T22:57:17.550Z"
   },
   {
    "duration": 172,
    "start_time": "2025-02-21T22:57:58.050Z"
   },
   {
    "duration": 231,
    "start_time": "2025-02-21T23:01:29.517Z"
   },
   {
    "duration": 17,
    "start_time": "2025-02-21T23:01:42.728Z"
   },
   {
    "duration": 354,
    "start_time": "2025-02-21T23:01:48.276Z"
   },
   {
    "duration": 233,
    "start_time": "2025-02-21T23:02:08.599Z"
   },
   {
    "duration": 6,
    "start_time": "2025-02-21T23:04:04.505Z"
   },
   {
    "duration": 337,
    "start_time": "2025-02-21T23:04:28.533Z"
   },
   {
    "duration": 3,
    "start_time": "2025-02-21T23:08:25.128Z"
   },
   {
    "duration": 20,
    "start_time": "2025-02-21T23:10:35.861Z"
   },
   {
    "duration": 15,
    "start_time": "2025-02-21T23:10:39.289Z"
   },
   {
    "duration": 427,
    "start_time": "2025-02-21T23:10:42.227Z"
   },
   {
    "duration": 34,
    "start_time": "2025-02-21T23:11:06.762Z"
   },
   {
    "duration": 7,
    "start_time": "2025-02-21T23:11:16.791Z"
   },
   {
    "duration": 4,
    "start_time": "2025-02-21T23:14:11.144Z"
   },
   {
    "duration": 6,
    "start_time": "2025-02-21T23:14:43.643Z"
   },
   {
    "duration": 19,
    "start_time": "2025-02-21T23:16:19.657Z"
   },
   {
    "duration": 18,
    "start_time": "2025-02-21T23:16:23.307Z"
   },
   {
    "duration": 3,
    "start_time": "2025-02-21T23:16:34.539Z"
   },
   {
    "duration": 151,
    "start_time": "2025-02-21T23:17:07.503Z"
   },
   {
    "duration": 1443,
    "start_time": "2025-02-21T23:17:13.786Z"
   },
   {
    "duration": 7,
    "start_time": "2025-02-21T23:17:15.231Z"
   },
   {
    "duration": 6,
    "start_time": "2025-02-21T23:17:15.239Z"
   },
   {
    "duration": 3,
    "start_time": "2025-02-21T23:17:15.247Z"
   },
   {
    "duration": 42,
    "start_time": "2025-02-21T23:17:15.252Z"
   },
   {
    "duration": 3,
    "start_time": "2025-02-21T23:17:15.297Z"
   },
   {
    "duration": 177,
    "start_time": "2025-02-21T23:17:15.302Z"
   },
   {
    "duration": 14,
    "start_time": "2025-02-21T23:17:15.486Z"
   },
   {
    "duration": 29,
    "start_time": "2025-02-21T23:17:15.502Z"
   },
   {
    "duration": 23,
    "start_time": "2025-02-21T23:17:15.535Z"
   },
   {
    "duration": 207,
    "start_time": "2025-02-21T23:17:15.560Z"
   },
   {
    "duration": 28,
    "start_time": "2025-02-21T23:17:15.769Z"
   },
   {
    "duration": 196,
    "start_time": "2025-02-21T23:17:15.799Z"
   },
   {
    "duration": 8,
    "start_time": "2025-02-21T23:17:15.998Z"
   },
   {
    "duration": 219,
    "start_time": "2025-02-21T23:17:16.007Z"
   },
   {
    "duration": 181,
    "start_time": "2025-02-21T23:17:16.228Z"
   },
   {
    "duration": 190,
    "start_time": "2025-02-21T23:17:16.411Z"
   },
   {
    "duration": 186,
    "start_time": "2025-02-21T23:17:16.603Z"
   },
   {
    "duration": 181,
    "start_time": "2025-02-21T23:17:16.791Z"
   },
   {
    "duration": 245,
    "start_time": "2025-02-21T23:17:16.974Z"
   },
   {
    "duration": 306,
    "start_time": "2025-02-21T23:17:17.220Z"
   },
   {
    "duration": 5,
    "start_time": "2025-02-21T23:17:17.528Z"
   },
   {
    "duration": 360,
    "start_time": "2025-02-21T23:17:17.534Z"
   },
   {
    "duration": 3,
    "start_time": "2025-02-21T23:17:17.896Z"
   },
   {
    "duration": 5,
    "start_time": "2025-02-21T23:17:17.901Z"
   },
   {
    "duration": 387,
    "start_time": "2025-02-21T23:17:17.907Z"
   },
   {
    "duration": 15,
    "start_time": "2025-02-21T23:19:41.636Z"
   },
   {
    "duration": 16,
    "start_time": "2025-02-21T23:20:17.580Z"
   },
   {
    "duration": 257,
    "start_time": "2025-02-21T23:20:24.051Z"
   },
   {
    "duration": 650,
    "start_time": "2025-02-21T23:20:34.750Z"
   },
   {
    "duration": 717,
    "start_time": "2025-02-21T23:20:51.073Z"
   },
   {
    "duration": 5,
    "start_time": "2025-02-21T23:21:04.156Z"
   },
   {
    "duration": 1527,
    "start_time": "2025-02-21T23:21:10.025Z"
   },
   {
    "duration": 6,
    "start_time": "2025-02-21T23:21:11.554Z"
   },
   {
    "duration": 5,
    "start_time": "2025-02-21T23:21:11.563Z"
   },
   {
    "duration": 19,
    "start_time": "2025-02-21T23:21:11.570Z"
   },
   {
    "duration": 21,
    "start_time": "2025-02-21T23:21:11.590Z"
   },
   {
    "duration": 3,
    "start_time": "2025-02-21T23:21:11.612Z"
   },
   {
    "duration": 192,
    "start_time": "2025-02-21T23:21:11.617Z"
   },
   {
    "duration": 12,
    "start_time": "2025-02-21T23:21:11.811Z"
   },
   {
    "duration": 27,
    "start_time": "2025-02-21T23:21:11.824Z"
   },
   {
    "duration": 39,
    "start_time": "2025-02-21T23:21:11.854Z"
   },
   {
    "duration": 193,
    "start_time": "2025-02-21T23:21:11.895Z"
   },
   {
    "duration": 17,
    "start_time": "2025-02-21T23:21:12.090Z"
   },
   {
    "duration": 209,
    "start_time": "2025-02-21T23:21:12.108Z"
   },
   {
    "duration": 7,
    "start_time": "2025-02-21T23:21:12.319Z"
   },
   {
    "duration": 215,
    "start_time": "2025-02-21T23:21:12.328Z"
   },
   {
    "duration": 176,
    "start_time": "2025-02-21T23:21:12.545Z"
   },
   {
    "duration": 188,
    "start_time": "2025-02-21T23:21:12.722Z"
   },
   {
    "duration": 185,
    "start_time": "2025-02-21T23:21:12.912Z"
   },
   {
    "duration": 202,
    "start_time": "2025-02-21T23:21:13.099Z"
   },
   {
    "duration": 247,
    "start_time": "2025-02-21T23:21:13.303Z"
   },
   {
    "duration": 310,
    "start_time": "2025-02-21T23:21:13.552Z"
   },
   {
    "duration": 6,
    "start_time": "2025-02-21T23:21:13.863Z"
   },
   {
    "duration": 338,
    "start_time": "2025-02-21T23:21:13.871Z"
   },
   {
    "duration": 4,
    "start_time": "2025-02-21T23:21:14.211Z"
   },
   {
    "duration": 7,
    "start_time": "2025-02-21T23:21:14.216Z"
   },
   {
    "duration": 765,
    "start_time": "2025-02-21T23:21:14.224Z"
   },
   {
    "duration": 2234,
    "start_time": "2025-02-21T23:22:24.640Z"
   },
   {
    "duration": 2249,
    "start_time": "2025-02-21T23:22:40.570Z"
   },
   {
    "duration": 628,
    "start_time": "2025-02-21T23:22:51.678Z"
   },
   {
    "duration": 67053,
    "start_time": "2025-02-21T23:24:22.607Z"
   },
   {
    "duration": 3283,
    "start_time": "2025-02-22T14:41:33.560Z"
   },
   {
    "duration": 7,
    "start_time": "2025-02-22T14:41:36.845Z"
   },
   {
    "duration": 6,
    "start_time": "2025-02-22T14:41:36.856Z"
   },
   {
    "duration": 2,
    "start_time": "2025-02-22T14:41:36.864Z"
   },
   {
    "duration": 14,
    "start_time": "2025-02-22T14:41:36.868Z"
   },
   {
    "duration": 3,
    "start_time": "2025-02-22T14:41:36.884Z"
   },
   {
    "duration": 182,
    "start_time": "2025-02-22T14:41:36.889Z"
   },
   {
    "duration": 11,
    "start_time": "2025-02-22T14:41:37.073Z"
   },
   {
    "duration": 25,
    "start_time": "2025-02-22T14:41:37.087Z"
   },
   {
    "duration": 18,
    "start_time": "2025-02-22T14:41:37.132Z"
   },
   {
    "duration": 182,
    "start_time": "2025-02-22T14:41:37.151Z"
   },
   {
    "duration": 16,
    "start_time": "2025-02-22T14:41:37.334Z"
   },
   {
    "duration": 207,
    "start_time": "2025-02-22T14:41:37.352Z"
   },
   {
    "duration": 8,
    "start_time": "2025-02-22T14:41:37.561Z"
   },
   {
    "duration": 277,
    "start_time": "2025-02-22T14:41:37.570Z"
   },
   {
    "duration": 183,
    "start_time": "2025-02-22T14:41:37.849Z"
   },
   {
    "duration": 186,
    "start_time": "2025-02-22T14:41:38.034Z"
   },
   {
    "duration": 182,
    "start_time": "2025-02-22T14:41:38.222Z"
   },
   {
    "duration": 173,
    "start_time": "2025-02-22T14:41:38.406Z"
   },
   {
    "duration": 244,
    "start_time": "2025-02-22T14:41:38.582Z"
   },
   {
    "duration": 224,
    "start_time": "2025-02-22T14:41:38.830Z"
   },
   {
    "duration": 5,
    "start_time": "2025-02-22T14:41:39.056Z"
   },
   {
    "duration": 406,
    "start_time": "2025-02-22T14:41:39.063Z"
   },
   {
    "duration": 4,
    "start_time": "2025-02-22T14:41:39.471Z"
   },
   {
    "duration": 6,
    "start_time": "2025-02-22T14:41:39.477Z"
   },
   {
    "duration": 860,
    "start_time": "2025-02-22T14:41:39.485Z"
   },
   {
    "duration": 2287,
    "start_time": "2025-02-22T14:41:40.353Z"
   },
   {
    "duration": 65769,
    "start_time": "2025-02-22T14:41:42.642Z"
   },
   {
    "duration": 6907,
    "start_time": "2025-02-22T14:45:21.939Z"
   },
   {
    "duration": 43620,
    "start_time": "2025-02-22T14:47:55.486Z"
   },
   {
    "duration": 119782,
    "start_time": "2025-02-22T14:49:30.685Z"
   },
   {
    "duration": 969,
    "start_time": "2025-02-22T14:52:04.262Z"
   },
   {
    "duration": 172,
    "start_time": "2025-02-22T14:53:14.021Z"
   },
   {
    "duration": 180,
    "start_time": "2025-02-22T14:53:27.223Z"
   },
   {
    "duration": 437,
    "start_time": "2025-02-22T14:53:41.540Z"
   },
   {
    "duration": 164,
    "start_time": "2025-02-22T14:53:59.272Z"
   },
   {
    "duration": 237,
    "start_time": "2025-02-22T14:54:18.828Z"
   },
   {
    "duration": 234,
    "start_time": "2025-02-22T14:55:00.543Z"
   },
   {
    "duration": 220,
    "start_time": "2025-02-22T14:55:11.359Z"
   },
   {
    "duration": 15865,
    "start_time": "2025-02-22T14:58:46.891Z"
   },
   {
    "duration": 755,
    "start_time": "2025-02-22T15:07:34.681Z"
   },
   {
    "duration": 3276,
    "start_time": "2025-02-22T15:53:11.355Z"
   },
   {
    "duration": 6,
    "start_time": "2025-02-22T15:53:14.633Z"
   },
   {
    "duration": 7,
    "start_time": "2025-02-22T15:53:14.641Z"
   },
   {
    "duration": 4,
    "start_time": "2025-02-22T15:53:14.649Z"
   },
   {
    "duration": 36,
    "start_time": "2025-02-22T15:53:14.655Z"
   },
   {
    "duration": 3,
    "start_time": "2025-02-22T15:53:14.693Z"
   },
   {
    "duration": 173,
    "start_time": "2025-02-22T15:53:14.698Z"
   },
   {
    "duration": 18,
    "start_time": "2025-02-22T15:53:14.873Z"
   },
   {
    "duration": 25,
    "start_time": "2025-02-22T15:53:14.893Z"
   },
   {
    "duration": 16,
    "start_time": "2025-02-22T15:53:14.920Z"
   },
   {
    "duration": 192,
    "start_time": "2025-02-22T15:53:14.938Z"
   },
   {
    "duration": 16,
    "start_time": "2025-02-22T15:53:15.132Z"
   },
   {
    "duration": 207,
    "start_time": "2025-02-22T15:53:15.150Z"
   },
   {
    "duration": 8,
    "start_time": "2025-02-22T15:53:15.361Z"
   },
   {
    "duration": 213,
    "start_time": "2025-02-22T15:53:15.370Z"
   },
   {
    "duration": 185,
    "start_time": "2025-02-22T15:53:15.585Z"
   },
   {
    "duration": 193,
    "start_time": "2025-02-22T15:53:15.772Z"
   },
   {
    "duration": 249,
    "start_time": "2025-02-22T15:53:15.967Z"
   },
   {
    "duration": 178,
    "start_time": "2025-02-22T15:53:16.218Z"
   },
   {
    "duration": 239,
    "start_time": "2025-02-22T15:53:16.398Z"
   },
   {
    "duration": 233,
    "start_time": "2025-02-22T15:53:16.639Z"
   },
   {
    "duration": 13,
    "start_time": "2025-02-22T15:53:16.874Z"
   },
   {
    "duration": 345,
    "start_time": "2025-02-22T15:53:16.888Z"
   },
   {
    "duration": 3,
    "start_time": "2025-02-22T15:53:17.235Z"
   },
   {
    "duration": 7,
    "start_time": "2025-02-22T15:53:17.241Z"
   },
   {
    "duration": 949,
    "start_time": "2025-02-22T15:53:17.250Z"
   },
   {
    "duration": 7095,
    "start_time": "2025-02-22T15:53:18.202Z"
   },
   {
    "duration": 44252,
    "start_time": "2025-02-22T15:53:25.299Z"
   },
   {
    "duration": 937,
    "start_time": "2025-02-22T15:54:09.553Z"
   },
   {
    "duration": 527,
    "start_time": "2025-02-22T16:04:21.540Z"
   },
   {
    "duration": 6,
    "start_time": "2025-02-22T16:04:22.069Z"
   },
   {
    "duration": 12,
    "start_time": "2025-02-22T16:04:22.077Z"
   },
   {
    "duration": 3,
    "start_time": "2025-02-22T16:04:22.091Z"
   },
   {
    "duration": 14,
    "start_time": "2025-02-22T16:04:22.097Z"
   },
   {
    "duration": 3,
    "start_time": "2025-02-22T16:04:22.113Z"
   },
   {
    "duration": 166,
    "start_time": "2025-02-22T16:04:22.117Z"
   },
   {
    "duration": 11,
    "start_time": "2025-02-22T16:04:22.286Z"
   },
   {
    "duration": 22,
    "start_time": "2025-02-22T16:04:22.299Z"
   },
   {
    "duration": 16,
    "start_time": "2025-02-22T16:04:22.324Z"
   },
   {
    "duration": 189,
    "start_time": "2025-02-22T16:04:22.342Z"
   },
   {
    "duration": 16,
    "start_time": "2025-02-22T16:04:22.533Z"
   },
   {
    "duration": 294,
    "start_time": "2025-02-22T16:04:22.551Z"
   },
   {
    "duration": 9,
    "start_time": "2025-02-22T16:04:22.848Z"
   },
   {
    "duration": 214,
    "start_time": "2025-02-22T16:04:22.859Z"
   },
   {
    "duration": 198,
    "start_time": "2025-02-22T16:04:23.075Z"
   },
   {
    "duration": 190,
    "start_time": "2025-02-22T16:04:23.274Z"
   },
   {
    "duration": 191,
    "start_time": "2025-02-22T16:04:23.465Z"
   },
   {
    "duration": 183,
    "start_time": "2025-02-22T16:04:23.658Z"
   },
   {
    "duration": 258,
    "start_time": "2025-02-22T16:04:23.843Z"
   },
   {
    "duration": 223,
    "start_time": "2025-02-22T16:04:24.103Z"
   },
   {
    "duration": 6,
    "start_time": "2025-02-22T16:04:24.328Z"
   },
   {
    "duration": 416,
    "start_time": "2025-02-22T16:04:24.335Z"
   },
   {
    "duration": 5,
    "start_time": "2025-02-22T16:04:24.753Z"
   },
   {
    "duration": 5,
    "start_time": "2025-02-22T16:04:24.760Z"
   },
   {
    "duration": 731,
    "start_time": "2025-02-22T16:04:24.768Z"
   },
   {
    "duration": 7082,
    "start_time": "2025-02-22T16:04:25.501Z"
   },
   {
    "duration": 44048,
    "start_time": "2025-02-22T16:04:32.587Z"
   },
   {
    "duration": 759,
    "start_time": "2025-02-22T16:05:16.636Z"
   },
   {
    "duration": 160,
    "start_time": "2025-02-22T16:19:16.358Z"
   },
   {
    "duration": 3331,
    "start_time": "2025-02-22T16:19:38.738Z"
   },
   {
    "duration": 14,
    "start_time": "2025-02-22T16:19:42.072Z"
   },
   {
    "duration": 5,
    "start_time": "2025-02-22T16:19:42.087Z"
   },
   {
    "duration": 4,
    "start_time": "2025-02-22T16:19:42.094Z"
   },
   {
    "duration": 15,
    "start_time": "2025-02-22T16:19:42.100Z"
   },
   {
    "duration": 3,
    "start_time": "2025-02-22T16:19:42.117Z"
   },
   {
    "duration": 184,
    "start_time": "2025-02-22T16:19:42.121Z"
   },
   {
    "duration": 11,
    "start_time": "2025-02-22T16:19:42.308Z"
   },
   {
    "duration": 26,
    "start_time": "2025-02-22T16:19:42.321Z"
   },
   {
    "duration": 42,
    "start_time": "2025-02-22T16:19:42.350Z"
   },
   {
    "duration": 173,
    "start_time": "2025-02-22T16:19:42.393Z"
   },
   {
    "duration": 21,
    "start_time": "2025-02-22T16:19:42.568Z"
   },
   {
    "duration": 202,
    "start_time": "2025-02-22T16:19:42.590Z"
   },
   {
    "duration": 9,
    "start_time": "2025-02-22T16:19:42.794Z"
   },
   {
    "duration": 215,
    "start_time": "2025-02-22T16:19:42.804Z"
   },
   {
    "duration": 277,
    "start_time": "2025-02-22T16:19:43.020Z"
   },
   {
    "duration": 179,
    "start_time": "2025-02-22T16:19:43.300Z"
   },
   {
    "duration": 181,
    "start_time": "2025-02-22T16:19:43.486Z"
   },
   {
    "duration": 180,
    "start_time": "2025-02-22T16:19:43.669Z"
   },
   {
    "duration": 245,
    "start_time": "2025-02-22T16:19:43.851Z"
   },
   {
    "duration": 237,
    "start_time": "2025-02-22T16:19:44.098Z"
   },
   {
    "duration": 6,
    "start_time": "2025-02-22T16:19:44.337Z"
   },
   {
    "duration": 348,
    "start_time": "2025-02-22T16:19:44.344Z"
   },
   {
    "duration": 4,
    "start_time": "2025-02-22T16:19:44.694Z"
   },
   {
    "duration": 6,
    "start_time": "2025-02-22T16:19:44.700Z"
   },
   {
    "duration": 801,
    "start_time": "2025-02-22T16:19:44.707Z"
   },
   {
    "duration": 400,
    "start_time": "2025-02-22T16:19:45.587Z"
   },
   {
    "duration": 0,
    "start_time": "2025-02-22T16:19:45.989Z"
   },
   {
    "duration": 0,
    "start_time": "2025-02-22T16:19:45.991Z"
   },
   {
    "duration": 6,
    "start_time": "2025-02-22T16:22:17.145Z"
   },
   {
    "duration": 1484,
    "start_time": "2025-02-22T16:22:24.023Z"
   },
   {
    "duration": 6,
    "start_time": "2025-02-22T16:22:25.509Z"
   },
   {
    "duration": 5,
    "start_time": "2025-02-22T16:22:25.516Z"
   },
   {
    "duration": 4,
    "start_time": "2025-02-22T16:22:25.522Z"
   },
   {
    "duration": 14,
    "start_time": "2025-02-22T16:22:25.528Z"
   },
   {
    "duration": 3,
    "start_time": "2025-02-22T16:22:25.543Z"
   },
   {
    "duration": 183,
    "start_time": "2025-02-22T16:22:25.548Z"
   },
   {
    "duration": 10,
    "start_time": "2025-02-22T16:22:25.733Z"
   },
   {
    "duration": 42,
    "start_time": "2025-02-22T16:22:25.745Z"
   },
   {
    "duration": 18,
    "start_time": "2025-02-22T16:22:25.789Z"
   },
   {
    "duration": 186,
    "start_time": "2025-02-22T16:22:25.809Z"
   },
   {
    "duration": 20,
    "start_time": "2025-02-22T16:22:25.997Z"
   },
   {
    "duration": 215,
    "start_time": "2025-02-22T16:22:26.019Z"
   },
   {
    "duration": 8,
    "start_time": "2025-02-22T16:22:26.238Z"
   },
   {
    "duration": 221,
    "start_time": "2025-02-22T16:22:26.247Z"
   },
   {
    "duration": 186,
    "start_time": "2025-02-22T16:22:26.470Z"
   },
   {
    "duration": 188,
    "start_time": "2025-02-22T16:22:26.658Z"
   },
   {
    "duration": 186,
    "start_time": "2025-02-22T16:22:26.848Z"
   },
   {
    "duration": 189,
    "start_time": "2025-02-22T16:22:27.036Z"
   },
   {
    "duration": 263,
    "start_time": "2025-02-22T16:22:27.228Z"
   },
   {
    "duration": 309,
    "start_time": "2025-02-22T16:22:27.493Z"
   },
   {
    "duration": 6,
    "start_time": "2025-02-22T16:22:27.804Z"
   },
   {
    "duration": 356,
    "start_time": "2025-02-22T16:22:27.811Z"
   },
   {
    "duration": 4,
    "start_time": "2025-02-22T16:22:28.169Z"
   },
   {
    "duration": 16,
    "start_time": "2025-02-22T16:22:28.175Z"
   },
   {
    "duration": 802,
    "start_time": "2025-02-22T16:22:28.192Z"
   },
   {
    "duration": 498,
    "start_time": "2025-02-22T16:22:28.996Z"
   },
   {
    "duration": 0,
    "start_time": "2025-02-22T16:22:29.496Z"
   },
   {
    "duration": 0,
    "start_time": "2025-02-22T16:22:29.498Z"
   },
   {
    "duration": 7,
    "start_time": "2025-02-22T16:23:13.295Z"
   },
   {
    "duration": 7,
    "start_time": "2025-02-22T16:23:21.337Z"
   },
   {
    "duration": 18,
    "start_time": "2025-02-22T16:28:04.542Z"
   },
   {
    "duration": 7,
    "start_time": "2025-02-22T16:28:10.159Z"
   },
   {
    "duration": 1509,
    "start_time": "2025-02-22T16:28:16.729Z"
   },
   {
    "duration": 5,
    "start_time": "2025-02-22T16:28:18.241Z"
   },
   {
    "duration": 4,
    "start_time": "2025-02-22T16:28:18.248Z"
   },
   {
    "duration": 3,
    "start_time": "2025-02-22T16:28:18.255Z"
   },
   {
    "duration": 37,
    "start_time": "2025-02-22T16:28:18.260Z"
   },
   {
    "duration": 2,
    "start_time": "2025-02-22T16:28:18.299Z"
   },
   {
    "duration": 164,
    "start_time": "2025-02-22T16:28:18.303Z"
   },
   {
    "duration": 19,
    "start_time": "2025-02-22T16:28:18.469Z"
   },
   {
    "duration": 26,
    "start_time": "2025-02-22T16:28:18.490Z"
   },
   {
    "duration": 17,
    "start_time": "2025-02-22T16:28:18.520Z"
   },
   {
    "duration": 188,
    "start_time": "2025-02-22T16:28:18.538Z"
   },
   {
    "duration": 19,
    "start_time": "2025-02-22T16:28:18.727Z"
   },
   {
    "duration": 219,
    "start_time": "2025-02-22T16:28:18.748Z"
   },
   {
    "duration": 18,
    "start_time": "2025-02-22T16:28:18.969Z"
   },
   {
    "duration": 207,
    "start_time": "2025-02-22T16:28:18.990Z"
   },
   {
    "duration": 183,
    "start_time": "2025-02-22T16:28:19.199Z"
   },
   {
    "duration": 183,
    "start_time": "2025-02-22T16:28:19.386Z"
   },
   {
    "duration": 189,
    "start_time": "2025-02-22T16:28:19.571Z"
   },
   {
    "duration": 185,
    "start_time": "2025-02-22T16:28:19.762Z"
   },
   {
    "duration": 245,
    "start_time": "2025-02-22T16:28:19.949Z"
   },
   {
    "duration": 312,
    "start_time": "2025-02-22T16:28:20.196Z"
   },
   {
    "duration": 4,
    "start_time": "2025-02-22T16:28:20.510Z"
   },
   {
    "duration": 366,
    "start_time": "2025-02-22T16:28:20.516Z"
   },
   {
    "duration": 5,
    "start_time": "2025-02-22T16:28:20.883Z"
   },
   {
    "duration": 8,
    "start_time": "2025-02-22T16:28:20.890Z"
   },
   {
    "duration": 490,
    "start_time": "2025-02-22T16:28:20.900Z"
   },
   {
    "duration": 4371,
    "start_time": "2025-02-22T16:28:21.391Z"
   },
   {
    "duration": 27531,
    "start_time": "2025-02-22T16:28:25.766Z"
   },
   {
    "duration": 493,
    "start_time": "2025-02-22T16:28:53.300Z"
   },
   {
    "duration": 4319,
    "start_time": "2025-02-22T16:28:59.199Z"
   },
   {
    "duration": 27427,
    "start_time": "2025-02-22T16:29:18.550Z"
   },
   {
    "duration": 53020,
    "start_time": "2025-02-22T16:30:18.136Z"
   },
   {
    "duration": 3545,
    "start_time": "2025-02-22T16:32:17.458Z"
   }
  ],
  "kernelspec": {
   "display_name": "Python 3 (ipykernel)",
   "language": "python",
   "name": "python3"
  },
  "language_info": {
   "codemirror_mode": {
    "name": "ipython",
    "version": 3
   },
   "file_extension": ".py",
   "mimetype": "text/x-python",
   "name": "python",
   "nbconvert_exporter": "python",
   "pygments_lexer": "ipython3",
   "version": "3.9.19"
  },
  "toc": {
   "base_numbering": 1,
   "nav_menu": {},
   "number_sections": true,
   "sideBar": true,
   "skip_h1_title": true,
   "title_cell": "Table of Contents",
   "title_sidebar": "Contents",
   "toc_cell": false,
   "toc_position": {},
   "toc_section_display": true,
   "toc_window_display": false
  }
 },
 "nbformat": 4,
 "nbformat_minor": 2
}
